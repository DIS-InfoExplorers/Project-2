{
 "cells": [
  {
   "cell_type": "markdown",
   "metadata": {
    "deletable": false,
    "editable": false,
    "nbgrader": {
     "cell_type": "markdown",
     "checksum": "18dee13d42cbaed8a305e5fa800f59b1",
     "grade": false,
     "grade_id": "cell-c793b2b7fc5465d8",
     "locked": true,
     "schema_version": 3,
     "solution": false,
     "task": false
    }
   },
   "source": [
    "# Project Part 2. Recommender system"
   ]
  },
  {
   "cell_type": "code",
   "execution_count": 1,
   "metadata": {
    "ExecuteTime": {
     "end_time": "2023-11-09T14:40:45.140149300Z",
     "start_time": "2023-11-09T14:40:42.238357700Z"
    }
   },
   "outputs": [],
   "source": [
    "import os\n",
    "import pandas as pd\n",
    "import numpy as np\n",
    "import matplotlib.pyplot as plt\n",
    "from tqdm.auto import tqdm\n",
    "import torch\n",
    "import torch.nn as nn\n",
    "import torch.optim as optim\n",
    "import torch.nn.functional as F\n",
    "import numpy as np\n",
    "from sklearn.decomposition import PCA\n",
    "import data"
   ]
  },
  {
   "cell_type": "code",
   "execution_count": 2,
   "metadata": {
    "ExecuteTime": {
     "end_time": "2023-11-09T14:40:45.241293900Z",
     "start_time": "2023-11-09T14:40:45.143148300Z"
    }
   },
   "outputs": [
    {
     "data": {
      "text/plain": "      movieId                                      title    tmdbId   imdbId  \\\n0           0                           Toy Story (1995)     862.0   114709   \n1           1                             Jumanji (1995)    8844.0   113497   \n2           2                    Grumpier Old Men (1995)   15602.0   113228   \n3           3                   Waiting to Exhale (1995)   31357.0   114885   \n4           4         Father of the Bride Part II (1995)   11862.0   113041   \n...       ...                                        ...       ...      ...   \n9737     9737  Black Butler: Book of the Atlantic (2017)  432131.0  5476944   \n9738     9738               No Game No Life: Zero (2017)  445030.0  5914996   \n9739     9739                               Flint (2017)  479308.0  6397426   \n9740     9740        Bungo Stray Dogs: Dead Apple (2018)  483455.0  8391976   \n9741     9741        Andrew Dice Clay: Dice Rules (1991)   37891.0   101726   \n\n      Action  Adventure  Animation  Children  Comedy  Crime  ...  Film-Noir  \\\n0          0          1          1         1       1      0  ...          0   \n1          0          1          0         1       0      0  ...          0   \n2          0          0          0         0       1      0  ...          0   \n3          0          0          0         0       1      0  ...          0   \n4          0          0          0         0       1      0  ...          0   \n...      ...        ...        ...       ...     ...    ...  ...        ...   \n9737       1          0          1         0       1      0  ...          0   \n9738       0          0          1         0       1      0  ...          0   \n9739       0          0          0         0       0      0  ...          0   \n9740       1          0          1         0       0      0  ...          0   \n9741       0          0          0         0       1      0  ...          0   \n\n      Horror  IMAX  Musical  Mystery  Romance  Sci-Fi  Thriller  War  Western  \n0          0     0        0        0        0       0         0    0        0  \n1          0     0        0        0        0       0         0    0        0  \n2          0     0        0        0        1       0         0    0        0  \n3          0     0        0        0        1       0         0    0        0  \n4          0     0        0        0        0       0         0    0        0  \n...      ...   ...      ...      ...      ...     ...       ...  ...      ...  \n9737       0     0        0        0        0       0         0    0        0  \n9738       0     0        0        0        0       0         0    0        0  \n9739       0     0        0        0        0       0         0    0        0  \n9740       0     0        0        0        0       0         0    0        0  \n9741       0     0        0        0        0       0         0    0        0  \n\n[9742 rows x 23 columns]",
      "text/html": "<div>\n<style scoped>\n    .dataframe tbody tr th:only-of-type {\n        vertical-align: middle;\n    }\n\n    .dataframe tbody tr th {\n        vertical-align: top;\n    }\n\n    .dataframe thead th {\n        text-align: right;\n    }\n</style>\n<table border=\"1\" class=\"dataframe\">\n  <thead>\n    <tr style=\"text-align: right;\">\n      <th></th>\n      <th>movieId</th>\n      <th>title</th>\n      <th>tmdbId</th>\n      <th>imdbId</th>\n      <th>Action</th>\n      <th>Adventure</th>\n      <th>Animation</th>\n      <th>Children</th>\n      <th>Comedy</th>\n      <th>Crime</th>\n      <th>...</th>\n      <th>Film-Noir</th>\n      <th>Horror</th>\n      <th>IMAX</th>\n      <th>Musical</th>\n      <th>Mystery</th>\n      <th>Romance</th>\n      <th>Sci-Fi</th>\n      <th>Thriller</th>\n      <th>War</th>\n      <th>Western</th>\n    </tr>\n  </thead>\n  <tbody>\n    <tr>\n      <th>0</th>\n      <td>0</td>\n      <td>Toy Story (1995)</td>\n      <td>862.0</td>\n      <td>114709</td>\n      <td>0</td>\n      <td>1</td>\n      <td>1</td>\n      <td>1</td>\n      <td>1</td>\n      <td>0</td>\n      <td>...</td>\n      <td>0</td>\n      <td>0</td>\n      <td>0</td>\n      <td>0</td>\n      <td>0</td>\n      <td>0</td>\n      <td>0</td>\n      <td>0</td>\n      <td>0</td>\n      <td>0</td>\n    </tr>\n    <tr>\n      <th>1</th>\n      <td>1</td>\n      <td>Jumanji (1995)</td>\n      <td>8844.0</td>\n      <td>113497</td>\n      <td>0</td>\n      <td>1</td>\n      <td>0</td>\n      <td>1</td>\n      <td>0</td>\n      <td>0</td>\n      <td>...</td>\n      <td>0</td>\n      <td>0</td>\n      <td>0</td>\n      <td>0</td>\n      <td>0</td>\n      <td>0</td>\n      <td>0</td>\n      <td>0</td>\n      <td>0</td>\n      <td>0</td>\n    </tr>\n    <tr>\n      <th>2</th>\n      <td>2</td>\n      <td>Grumpier Old Men (1995)</td>\n      <td>15602.0</td>\n      <td>113228</td>\n      <td>0</td>\n      <td>0</td>\n      <td>0</td>\n      <td>0</td>\n      <td>1</td>\n      <td>0</td>\n      <td>...</td>\n      <td>0</td>\n      <td>0</td>\n      <td>0</td>\n      <td>0</td>\n      <td>0</td>\n      <td>1</td>\n      <td>0</td>\n      <td>0</td>\n      <td>0</td>\n      <td>0</td>\n    </tr>\n    <tr>\n      <th>3</th>\n      <td>3</td>\n      <td>Waiting to Exhale (1995)</td>\n      <td>31357.0</td>\n      <td>114885</td>\n      <td>0</td>\n      <td>0</td>\n      <td>0</td>\n      <td>0</td>\n      <td>1</td>\n      <td>0</td>\n      <td>...</td>\n      <td>0</td>\n      <td>0</td>\n      <td>0</td>\n      <td>0</td>\n      <td>0</td>\n      <td>1</td>\n      <td>0</td>\n      <td>0</td>\n      <td>0</td>\n      <td>0</td>\n    </tr>\n    <tr>\n      <th>4</th>\n      <td>4</td>\n      <td>Father of the Bride Part II (1995)</td>\n      <td>11862.0</td>\n      <td>113041</td>\n      <td>0</td>\n      <td>0</td>\n      <td>0</td>\n      <td>0</td>\n      <td>1</td>\n      <td>0</td>\n      <td>...</td>\n      <td>0</td>\n      <td>0</td>\n      <td>0</td>\n      <td>0</td>\n      <td>0</td>\n      <td>0</td>\n      <td>0</td>\n      <td>0</td>\n      <td>0</td>\n      <td>0</td>\n    </tr>\n    <tr>\n      <th>...</th>\n      <td>...</td>\n      <td>...</td>\n      <td>...</td>\n      <td>...</td>\n      <td>...</td>\n      <td>...</td>\n      <td>...</td>\n      <td>...</td>\n      <td>...</td>\n      <td>...</td>\n      <td>...</td>\n      <td>...</td>\n      <td>...</td>\n      <td>...</td>\n      <td>...</td>\n      <td>...</td>\n      <td>...</td>\n      <td>...</td>\n      <td>...</td>\n      <td>...</td>\n      <td>...</td>\n    </tr>\n    <tr>\n      <th>9737</th>\n      <td>9737</td>\n      <td>Black Butler: Book of the Atlantic (2017)</td>\n      <td>432131.0</td>\n      <td>5476944</td>\n      <td>1</td>\n      <td>0</td>\n      <td>1</td>\n      <td>0</td>\n      <td>1</td>\n      <td>0</td>\n      <td>...</td>\n      <td>0</td>\n      <td>0</td>\n      <td>0</td>\n      <td>0</td>\n      <td>0</td>\n      <td>0</td>\n      <td>0</td>\n      <td>0</td>\n      <td>0</td>\n      <td>0</td>\n    </tr>\n    <tr>\n      <th>9738</th>\n      <td>9738</td>\n      <td>No Game No Life: Zero (2017)</td>\n      <td>445030.0</td>\n      <td>5914996</td>\n      <td>0</td>\n      <td>0</td>\n      <td>1</td>\n      <td>0</td>\n      <td>1</td>\n      <td>0</td>\n      <td>...</td>\n      <td>0</td>\n      <td>0</td>\n      <td>0</td>\n      <td>0</td>\n      <td>0</td>\n      <td>0</td>\n      <td>0</td>\n      <td>0</td>\n      <td>0</td>\n      <td>0</td>\n    </tr>\n    <tr>\n      <th>9739</th>\n      <td>9739</td>\n      <td>Flint (2017)</td>\n      <td>479308.0</td>\n      <td>6397426</td>\n      <td>0</td>\n      <td>0</td>\n      <td>0</td>\n      <td>0</td>\n      <td>0</td>\n      <td>0</td>\n      <td>...</td>\n      <td>0</td>\n      <td>0</td>\n      <td>0</td>\n      <td>0</td>\n      <td>0</td>\n      <td>0</td>\n      <td>0</td>\n      <td>0</td>\n      <td>0</td>\n      <td>0</td>\n    </tr>\n    <tr>\n      <th>9740</th>\n      <td>9740</td>\n      <td>Bungo Stray Dogs: Dead Apple (2018)</td>\n      <td>483455.0</td>\n      <td>8391976</td>\n      <td>1</td>\n      <td>0</td>\n      <td>1</td>\n      <td>0</td>\n      <td>0</td>\n      <td>0</td>\n      <td>...</td>\n      <td>0</td>\n      <td>0</td>\n      <td>0</td>\n      <td>0</td>\n      <td>0</td>\n      <td>0</td>\n      <td>0</td>\n      <td>0</td>\n      <td>0</td>\n      <td>0</td>\n    </tr>\n    <tr>\n      <th>9741</th>\n      <td>9741</td>\n      <td>Andrew Dice Clay: Dice Rules (1991)</td>\n      <td>37891.0</td>\n      <td>101726</td>\n      <td>0</td>\n      <td>0</td>\n      <td>0</td>\n      <td>0</td>\n      <td>1</td>\n      <td>0</td>\n      <td>...</td>\n      <td>0</td>\n      <td>0</td>\n      <td>0</td>\n      <td>0</td>\n      <td>0</td>\n      <td>0</td>\n      <td>0</td>\n      <td>0</td>\n      <td>0</td>\n      <td>0</td>\n    </tr>\n  </tbody>\n</table>\n<p>9742 rows × 23 columns</p>\n</div>"
     },
     "execution_count": 2,
     "metadata": {},
     "output_type": "execute_result"
    }
   ],
   "source": [
    "df_movies = pd.read_csv('movies.csv')\n",
    "df_links = pd.read_csv('links.csv')[['movieId', 'tmdbId', 'imdbId']]\n",
    "df_movies = df_movies.merge(df_links, how='left', on='movieId')\n",
    "\n",
    "# One-hot encoding for genre\n",
    "df_movies = pd.concat([df_movies, df_movies.genres.str.get_dummies('|')], axis=1)\n",
    "df_movies = df_movies.drop(columns=['(no genres listed)', 'genres'])\n",
    "\n",
    "sorted_unique_ids = sorted(df_movies['movieId'].unique())\n",
    "\n",
    "# Step 2: Create a mapping of IDs to indices based on the sorted order\n",
    "id_to_index_mapping = {id: idx for idx, id in enumerate(sorted_unique_ids)}\n",
    "\n",
    "# Step 3: Replace values in column movieId with the corresponding indices\n",
    "df_movies['movieId'] = df_movies['movieId'].map(id_to_index_mapping)\n",
    "\n",
    "df_movies"
   ]
  },
  {
   "cell_type": "markdown",
   "metadata": {},
   "source": [
    "## Collect movie data using tmdbv3api"
   ]
  },
  {
   "cell_type": "markdown",
   "metadata": {},
   "source": [
    "### Create TMDb Object"
   ]
  },
  {
   "cell_type": "code",
   "execution_count": 3,
   "metadata": {
    "ExecuteTime": {
     "end_time": "2023-11-09T14:40:45.569895300Z",
     "start_time": "2023-11-09T14:40:45.236263400Z"
    }
   },
   "outputs": [
    {
     "name": "stdout",
     "output_type": "stream",
     "text": [
      "Title of the movie:  Freeway\n",
      "Overview of the movie: A deeply-disturbed priest goes on a murderous night-time rampage across America's highways.\n",
      "Poster of the Movie: /cxv8MRnpAhd4izS0yHHeQPgn6FR.jpg\n",
      "Title of the movie:  King Lily of the Valley\n",
      "Overview of the movie: Spring is in the air and Puck and Einar, as well as Christer Wijk are invited to a wedding in Skoga. The day before the wedding, the bride-to-be enters a flower-shop in order to inspect her bridal bouquet of lily of the valley, but suddenly vanishes without at trace. When she eventually turns up again, it is Christer who finds her. She lies dead outside her home with a bouquet of lily of the valley in her hand. Everybody close to the bride are suspects, not least her best friend, whom Christer has just begun flirting with. Everybody seems to have something to hide. Question is: are their secrets connected to the murder?\n",
      "Poster of the Movie: /6LUaucJOSeCazvb9ZTvADLd2uhS.jpg\n",
      "Title of the movie:  Friday the 13th Part VI: Jason Lives\n",
      "Overview of the movie: Tommy Jarvis, tormented by the fear that Jason Voorhees isn't really dead, unwittingly resurrects the mass murderer for another bloody rampage.\n",
      "Poster of the Movie: /3qyCfzwY418lbuFEaKX5rKxKlnJ.jpg\n",
      "Title of the movie:  What Ever Happened to Baby Jane?\n",
      "Overview of the movie: A former child star torments her paraplegic sister in their decaying Hollywood mansion.\n",
      "Poster of the Movie: /msGYzyWwtjAaA3DScdgmvJ5MReG.jpg\n",
      "Title of the movie:  The Great Alibi\n",
      "Overview of the movie: Like every weekend senator Henri Pagès and his wife entertain guests at their beautiful mansion in a peaceful village near Paris. But this time around, things go awry: Pierre Collier, a psychoanalyst and consummate womanizer, is brutally murdered. Claire, his wife, dazed and confused by his corpse, with a smoking gun still in her hand, seems to be the ideal culprit...\n",
      "Poster of the Movie: /u1ws9656MKXBqdSUjIZTAWKez8j.jpg\n",
      "Title of the movie:  The Jewel of the Nile\n",
      "Overview of the movie: Joan Wilder is thrust back into a world of murder, chases, foreign intrigue... and love. This time out she's duped by a duplicitous Arab dignitary who brings her to the Middle East, ostensibly to write a book about his life. Of course, he's up to no good, and Joan is just another pawn in his wicked game. But Jack Colton and his sidekick Ralph show up to help our intrepid heroine save the day.\n",
      "Poster of the Movie: /yxYwAPc7j5emyUxfG0ur7kXeY3Q.jpg\n",
      "Title of the movie:  Poltergeist III\n",
      "Overview of the movie: Carol Anne has been sent to live with her Aunt and Uncle in an effort to hide her from the clutches of the ghostly Reverend Kane, but he tracks her down and terrorises her in her relatives' appartment in a tall glass building. Will he finally achieve his target and capture Carol Anne again, or will Tangina be able, yet again, to thwart him?\n",
      "Poster of the Movie: /pLewUibOJLGISvMqB94mAMdjz2q.jpg\n",
      "Title of the movie:  The Ring Two\n",
      "Overview of the movie: After the ordeal with Samara, Rachel and Aiden move to a rural town. But soon Rachel learns about the death of a girl in a similar fashion. To save Aiden, she must dig into Samara's past even further.\n",
      "Poster of the Movie: /8Mnthy6ymdKHVwVw5gJB7RtaO1F.jpg\n",
      "Title of the movie:  Congo\n",
      "Overview of the movie: Eight people embark on an expedition into the Congo, a mysterious expanse of unexplored Africa where human greed and the laws of nature have gone berserk. When the thrill-seekers -- some with ulterior motives -- stumble across a race of killer apes.\n",
      "Poster of the Movie: /hPNSToNIIpRO6y5Rh973leqQqNr.jpg\n",
      "Title of the movie:  Purple Noon\n",
      "Overview of the movie: Tom Ripley is a talented mimic, moocher, forger and all-around criminal improviser; but there's more to Tom Ripley than even he can guess.\n",
      "Poster of the Movie: /7n1KNXs4OFfeVLjJ3g10M8oK1fM.jpg\n",
      "Title of the movie:  Double Jeopardy\n",
      "Overview of the movie: Framed for the murder of her husband, Libby Parsons survives the long years in prison with two burning desires sustaining her -- finding her son and solving the mystery that destroyed her once-happy life. Standing between her and her quest; however, is her parole officer, Travis Lehman. Libby poses a challenge to the cynical officer, one that forces him to face up to his own failings while pitting him against his superiors and law enforcement colleagues.\n",
      "Poster of the Movie: /lSYMeHoUh9uWX2kXi9Fqe4BX2Ml.jpg\n",
      "Title of the movie:  Jurassic World Dominion\n",
      "Overview of the movie: Four years after Isla Nublar was destroyed, dinosaurs now live—and hunt—alongside humans all over the world. This fragile balance will reshape the future and determine, once and for all, whether human beings are to remain the apex predators ona planet they now share with history's most fearsome creatures.\n",
      "Poster of the Movie: /kAVRgw7GgK1CfYEJq8ME6EvRIgU.jpg\n",
      "Title of the movie:  Stormbreaker\n",
      "Overview of the movie: Alex Rider thinks he is a normal school boy, until his uncle is killed. He discovers that his uncle was actually spy on a mission, when he was killed. Alex is recruited by Alan Blunt to continue the mission. He is sent to Cornwall to investigate a new computer system, which Darrius Sayle has created. He plans to give the new computer systems to every school in the country, but Mr. Blunt has other ideas and Alex must find out what it is.\n",
      "Poster of the Movie: /l0vSLU0tsYuQsvMxsC52rJsd583.jpg\n",
      "Title of the movie:  The Saint\n",
      "Overview of the movie: Simon Templar (The Saint), is a thief for hire, whose latest job to steal the secret process for cold fusion puts him at odds with a traitor bent on toppling the Russian government, as well as the woman who holds its secret.\n",
      "Poster of the Movie: /dS1VfyHsDjlmtuhMPFvtAqKcN8M.jpg\n",
      "Title of the movie:  Miss Congeniality 2: Armed and Fabulous\n",
      "Overview of the movie: After her triumph at the Miss United States pageant, FBI agent Gracie Hart becomes an overnight sensation -- and the new \"face of the FBI\". But it's time to spring into action again when the pageant's winner, Cheryl, and emcee, Stan, are abducted.\n",
      "Poster of the Movie: /gcYoIHND3ugn2VH1cNHHNQasEyI.jpg\n",
      "Title of the movie:  Escape from L.A.\n",
      "Overview of the movie: This time, a cataclysmic temblor hits Los Angeles, turning it into an island. The president views the quake as a sign from above, expels Los Angeles from the country and makes it a penal colony for those found guilty of moral crimes. When his daughter, part of a resistance movement, steals the control unit for a doomsday weapon, Snake again gets tapped to save the day.\n",
      "Poster of the Movie: /3L9lL2eUsmLNNfENPwNOc82Hzpw.jpg\n",
      "Title of the movie:  A Nightmare on Elm Street 3: Dream Warriors\n",
      "Overview of the movie: During a hallucinatory incident, young Kristen Parker has her wrists slashed by dream-stalking monster Freddy Krueger. Her mother, mistaking the wounds for a suicide attempt, sends Kristen to a psychiatric ward, where she joins a group of similarly troubled teens. One of the doctors there is Nancy Thompson, who had battled Freddy some years before. Nancy senses a potential in Kristen to rid the world of Freddy once and for all.\n",
      "Poster of the Movie: /2RnJ7wgoaS9XPiofoXTLj2KkM20.jpg\n",
      "Title of the movie:  The Hijack That Went South\n",
      "Overview of the movie: Aarno Lamminparras hijacked an airplane with a gun in 1978. A true story.\n",
      "Poster of the Movie: /hTJdevyLSePL6A6zrEUIgzJtijC.jpg\n",
      "Title of the movie:  Enemy of the State\n",
      "Overview of the movie: When the videotape of the murder of a congressman unknowingly ends up in the hands of labor lawyer and dedicated family man Robert Clayton Dean, he is framed for the murder. With the help of the mysterious Brill, Dean attempts to throw the NSA off his trail and prove his innocence.\n",
      "Poster of the Movie: /x9pXrMKLsBGGOFyyZ0Gwt9YpVub.jpg\n",
      "Title of the movie:  Waterworld\n",
      "Overview of the movie: In a futuristic world where the polar ice caps have melted and made Earth a liquid planet, a beautiful barmaid rescues a mutant seafarer from a floating island prison. They escape, along with her young charge, Enola, and sail off aboard his ship. But the trio soon becomes the target of a menacing pirate who covets the map to 'Dryland'—which is tattooed on Enola's back.\n",
      "Poster of the Movie: /pBjf3xzi6kClzWXiKMclMUX7dOP.jpg\n"
     ]
    }
   ],
   "source": [
    "from tmdbv3api import TMDb\n",
    "from tmdbv3api import Movie\n",
    "tmdb=TMDb()\n",
    "#set you unique API key that you get from TMDB after registartion in my case this is my API key\n",
    "TMDb.api_key='eb694832e717f6712c1cbe5c7ec09f92'\n",
    "#you can also export your api key as environment variable using this below export command\n",
    "# export TMDb_API_KEY='6f15568d9aa3d15d0261a5454578c28b'\n",
    "#it's optional it's for setting language of Data that we'll fetch from TMDB\n",
    "tmdb.language = 'en'\n",
    "#for debugging we have set it true \n",
    "tmdb.debug = True\n",
    "movie=Movie()\n",
    "#here I have fetched movie data using movie_id \n",
    "similar = movie.similar(343611)\n",
    "#iterate through the data since it have multiple information\n",
    "for s in similar:\n",
    "    #print required data like in my case title of movie and it's overview, poster path\n",
    "    print(\"Title of the movie: \", s.title)\n",
    "    print(\"Overview of the movie:\", s.overview)\n",
    "    print(\"Poster of the Movie:\", s.poster_path)"
   ]
  },
  {
   "cell_type": "markdown",
   "metadata": {},
   "source": [
    "### Extract movie details by id"
   ]
  },
  {
   "cell_type": "code",
   "execution_count": 4,
   "metadata": {
    "ExecuteTime": {
     "end_time": "2023-11-09T14:40:45.578458200Z",
     "start_time": "2023-11-09T14:40:45.571792200Z"
    }
   },
   "outputs": [],
   "source": [
    "import pickle\n",
    "\n",
    "try:\n",
    "    with open('movie_info.pickle', 'rb') as handle:\n",
    "        movie_info = pickle.load(handle)\n",
    "except:\n",
    "    movie_info = []\n",
    "    for tmdb_id in tqdm(df_movies.tmdbId):\n",
    "        try:\n",
    "            movie_detail = movie.details(tmdb_id)\n",
    "            movie_info.append([movie_detail['vote_average'], \n",
    "                               movie_detail['overview'], \n",
    "                               movie_detail['popularity']])\n",
    "        except:\n",
    "            movie_info.append([])\n",
    "    with open('movie_info.pickle', 'wb') as handle:\n",
    "        pickle.dump(movie_info, handle, protocol=pickle.HIGHEST_PROTOCOL)\n"
   ]
  },
  {
   "cell_type": "markdown",
   "metadata": {},
   "source": [
    "## Process movie information"
   ]
  },
  {
   "cell_type": "code",
   "execution_count": 5,
   "metadata": {
    "ExecuteTime": {
     "end_time": "2023-11-09T14:40:46.398858600Z",
     "start_time": "2023-11-09T14:40:45.580458800Z"
    }
   },
   "outputs": [],
   "source": [
    "from sentence_transformers import SentenceTransformer\n",
    "deep_embedder = SentenceTransformer('all-MiniLM-L6-v2')\n"
   ]
  },
  {
   "cell_type": "code",
   "execution_count": 28,
   "metadata": {
    "ExecuteTime": {
     "end_time": "2023-11-09T15:20:21.942289300Z",
     "start_time": "2023-11-09T15:19:31.545553400Z"
    }
   },
   "outputs": [
    {
     "data": {
      "text/plain": "  0%|          | 0/9742 [00:00<?, ?it/s]",
      "application/vnd.jupyter.widget-view+json": {
       "version_major": 2,
       "version_minor": 0,
       "model_id": "ecc9d8acb8374bb6a6bdc5669d3e9b95"
      }
     },
     "metadata": {},
     "output_type": "display_data"
    }
   ],
   "source": [
    "movie_scores = []\n",
    "movie_plot = []\n",
    "movie_popularity = []\n",
    "\n",
    "try:\n",
    "    with open('movie_plot.pickle', 'rb') as handle:\n",
    "        movie_plot = pickle.load(handle)\n",
    "    flag = False\n",
    "except:\n",
    "    flag = True\n",
    "\n",
    "for movie_detail in tqdm(movie_info):\n",
    "    try:\n",
    "        movie_scores.append(movie_detail[0])\n",
    "        if flag:\n",
    "            movie_plot.append(deep_embedder.encode(movie_detail[1]))\n",
    "        movie_popularity.append(movie_detail[2])\n",
    "    except:\n",
    "        movie_scores.append(np.NaN)\n",
    "        if flag:\n",
    "            movie_plot.append(np.zeros(384))\n",
    "        movie_popularity.append(np.NaN)\n",
    "\n",
    "if flag:\n",
    "    with open('movie_plot.pickle', 'wb') as handle:\n",
    "        pickle.dump(movie_plot, handle, protocol=pickle.HIGHEST_PROTOCOL)"
   ]
  },
  {
   "cell_type": "code",
   "execution_count": 7,
   "metadata": {
    "ExecuteTime": {
     "end_time": "2023-11-09T14:41:37.642277700Z",
     "start_time": "2023-11-09T14:41:37.626704900Z"
    }
   },
   "outputs": [
    {
     "data": {
      "text/plain": "      movieId                                      title    tmdbId   imdbId  \\\n0           0                           Toy Story (1995)     862.0   114709   \n1           1                             Jumanji (1995)    8844.0   113497   \n2           2                    Grumpier Old Men (1995)   15602.0   113228   \n3           3                   Waiting to Exhale (1995)   31357.0   114885   \n4           4         Father of the Bride Part II (1995)   11862.0   113041   \n...       ...                                        ...       ...      ...   \n9737     9737  Black Butler: Book of the Atlantic (2017)  432131.0  5476944   \n9738     9738               No Game No Life: Zero (2017)  445030.0  5914996   \n9739     9739                               Flint (2017)  479308.0  6397426   \n9740     9740        Bungo Stray Dogs: Dead Apple (2018)  483455.0  8391976   \n9741     9741        Andrew Dice Clay: Dice Rules (1991)   37891.0   101726   \n\n      Action  Adventure  Animation  Children  Comedy  Crime  ...  IMAX  \\\n0          0          1          1         1       1      0  ...     0   \n1          0          1          0         1       0      0  ...     0   \n2          0          0          0         0       1      0  ...     0   \n3          0          0          0         0       1      0  ...     0   \n4          0          0          0         0       1      0  ...     0   \n...      ...        ...        ...       ...     ...    ...  ...   ...   \n9737       1          0          1         0       1      0  ...     0   \n9738       0          0          1         0       1      0  ...     0   \n9739       0          0          0         0       0      0  ...     0   \n9740       1          0          1         0       0      0  ...     0   \n9741       0          0          0         0       1      0  ...     0   \n\n      Musical  Mystery  Romance  Sci-Fi  Thriller  War  Western  ratings  \\\n0           0        0        0       0         0    0        0    7.970   \n1           0        0        0       0         0    0        0    7.238   \n2           0        0        1       0         0    0        0    6.494   \n3           0        0        1       0         0    0        0    6.183   \n4           0        0        0       0         0    0        0    6.235   \n...       ...      ...      ...     ...       ...  ...      ...      ...   \n9737        0        0        0       0         0    0        0    7.695   \n9738        0        0        0       0         0    0        0    7.800   \n9739        0        0        0       0         0    0        0    6.800   \n9740        0        0        0       0         0    0        0    8.240   \n9741        0        0        0       0         0    0        0    6.500   \n\n      popularity  \n0        120.836  \n1         18.995  \n2         19.230  \n3         19.823  \n4         23.093  \n...          ...  \n9737      10.786  \n9738      22.415  \n9739       3.621  \n9740      18.410  \n9741       2.755  \n\n[9742 rows x 25 columns]",
      "text/html": "<div>\n<style scoped>\n    .dataframe tbody tr th:only-of-type {\n        vertical-align: middle;\n    }\n\n    .dataframe tbody tr th {\n        vertical-align: top;\n    }\n\n    .dataframe thead th {\n        text-align: right;\n    }\n</style>\n<table border=\"1\" class=\"dataframe\">\n  <thead>\n    <tr style=\"text-align: right;\">\n      <th></th>\n      <th>movieId</th>\n      <th>title</th>\n      <th>tmdbId</th>\n      <th>imdbId</th>\n      <th>Action</th>\n      <th>Adventure</th>\n      <th>Animation</th>\n      <th>Children</th>\n      <th>Comedy</th>\n      <th>Crime</th>\n      <th>...</th>\n      <th>IMAX</th>\n      <th>Musical</th>\n      <th>Mystery</th>\n      <th>Romance</th>\n      <th>Sci-Fi</th>\n      <th>Thriller</th>\n      <th>War</th>\n      <th>Western</th>\n      <th>ratings</th>\n      <th>popularity</th>\n    </tr>\n  </thead>\n  <tbody>\n    <tr>\n      <th>0</th>\n      <td>0</td>\n      <td>Toy Story (1995)</td>\n      <td>862.0</td>\n      <td>114709</td>\n      <td>0</td>\n      <td>1</td>\n      <td>1</td>\n      <td>1</td>\n      <td>1</td>\n      <td>0</td>\n      <td>...</td>\n      <td>0</td>\n      <td>0</td>\n      <td>0</td>\n      <td>0</td>\n      <td>0</td>\n      <td>0</td>\n      <td>0</td>\n      <td>0</td>\n      <td>7.970</td>\n      <td>120.836</td>\n    </tr>\n    <tr>\n      <th>1</th>\n      <td>1</td>\n      <td>Jumanji (1995)</td>\n      <td>8844.0</td>\n      <td>113497</td>\n      <td>0</td>\n      <td>1</td>\n      <td>0</td>\n      <td>1</td>\n      <td>0</td>\n      <td>0</td>\n      <td>...</td>\n      <td>0</td>\n      <td>0</td>\n      <td>0</td>\n      <td>0</td>\n      <td>0</td>\n      <td>0</td>\n      <td>0</td>\n      <td>0</td>\n      <td>7.238</td>\n      <td>18.995</td>\n    </tr>\n    <tr>\n      <th>2</th>\n      <td>2</td>\n      <td>Grumpier Old Men (1995)</td>\n      <td>15602.0</td>\n      <td>113228</td>\n      <td>0</td>\n      <td>0</td>\n      <td>0</td>\n      <td>0</td>\n      <td>1</td>\n      <td>0</td>\n      <td>...</td>\n      <td>0</td>\n      <td>0</td>\n      <td>0</td>\n      <td>1</td>\n      <td>0</td>\n      <td>0</td>\n      <td>0</td>\n      <td>0</td>\n      <td>6.494</td>\n      <td>19.230</td>\n    </tr>\n    <tr>\n      <th>3</th>\n      <td>3</td>\n      <td>Waiting to Exhale (1995)</td>\n      <td>31357.0</td>\n      <td>114885</td>\n      <td>0</td>\n      <td>0</td>\n      <td>0</td>\n      <td>0</td>\n      <td>1</td>\n      <td>0</td>\n      <td>...</td>\n      <td>0</td>\n      <td>0</td>\n      <td>0</td>\n      <td>1</td>\n      <td>0</td>\n      <td>0</td>\n      <td>0</td>\n      <td>0</td>\n      <td>6.183</td>\n      <td>19.823</td>\n    </tr>\n    <tr>\n      <th>4</th>\n      <td>4</td>\n      <td>Father of the Bride Part II (1995)</td>\n      <td>11862.0</td>\n      <td>113041</td>\n      <td>0</td>\n      <td>0</td>\n      <td>0</td>\n      <td>0</td>\n      <td>1</td>\n      <td>0</td>\n      <td>...</td>\n      <td>0</td>\n      <td>0</td>\n      <td>0</td>\n      <td>0</td>\n      <td>0</td>\n      <td>0</td>\n      <td>0</td>\n      <td>0</td>\n      <td>6.235</td>\n      <td>23.093</td>\n    </tr>\n    <tr>\n      <th>...</th>\n      <td>...</td>\n      <td>...</td>\n      <td>...</td>\n      <td>...</td>\n      <td>...</td>\n      <td>...</td>\n      <td>...</td>\n      <td>...</td>\n      <td>...</td>\n      <td>...</td>\n      <td>...</td>\n      <td>...</td>\n      <td>...</td>\n      <td>...</td>\n      <td>...</td>\n      <td>...</td>\n      <td>...</td>\n      <td>...</td>\n      <td>...</td>\n      <td>...</td>\n      <td>...</td>\n    </tr>\n    <tr>\n      <th>9737</th>\n      <td>9737</td>\n      <td>Black Butler: Book of the Atlantic (2017)</td>\n      <td>432131.0</td>\n      <td>5476944</td>\n      <td>1</td>\n      <td>0</td>\n      <td>1</td>\n      <td>0</td>\n      <td>1</td>\n      <td>0</td>\n      <td>...</td>\n      <td>0</td>\n      <td>0</td>\n      <td>0</td>\n      <td>0</td>\n      <td>0</td>\n      <td>0</td>\n      <td>0</td>\n      <td>0</td>\n      <td>7.695</td>\n      <td>10.786</td>\n    </tr>\n    <tr>\n      <th>9738</th>\n      <td>9738</td>\n      <td>No Game No Life: Zero (2017)</td>\n      <td>445030.0</td>\n      <td>5914996</td>\n      <td>0</td>\n      <td>0</td>\n      <td>1</td>\n      <td>0</td>\n      <td>1</td>\n      <td>0</td>\n      <td>...</td>\n      <td>0</td>\n      <td>0</td>\n      <td>0</td>\n      <td>0</td>\n      <td>0</td>\n      <td>0</td>\n      <td>0</td>\n      <td>0</td>\n      <td>7.800</td>\n      <td>22.415</td>\n    </tr>\n    <tr>\n      <th>9739</th>\n      <td>9739</td>\n      <td>Flint (2017)</td>\n      <td>479308.0</td>\n      <td>6397426</td>\n      <td>0</td>\n      <td>0</td>\n      <td>0</td>\n      <td>0</td>\n      <td>0</td>\n      <td>0</td>\n      <td>...</td>\n      <td>0</td>\n      <td>0</td>\n      <td>0</td>\n      <td>0</td>\n      <td>0</td>\n      <td>0</td>\n      <td>0</td>\n      <td>0</td>\n      <td>6.800</td>\n      <td>3.621</td>\n    </tr>\n    <tr>\n      <th>9740</th>\n      <td>9740</td>\n      <td>Bungo Stray Dogs: Dead Apple (2018)</td>\n      <td>483455.0</td>\n      <td>8391976</td>\n      <td>1</td>\n      <td>0</td>\n      <td>1</td>\n      <td>0</td>\n      <td>0</td>\n      <td>0</td>\n      <td>...</td>\n      <td>0</td>\n      <td>0</td>\n      <td>0</td>\n      <td>0</td>\n      <td>0</td>\n      <td>0</td>\n      <td>0</td>\n      <td>0</td>\n      <td>8.240</td>\n      <td>18.410</td>\n    </tr>\n    <tr>\n      <th>9741</th>\n      <td>9741</td>\n      <td>Andrew Dice Clay: Dice Rules (1991)</td>\n      <td>37891.0</td>\n      <td>101726</td>\n      <td>0</td>\n      <td>0</td>\n      <td>0</td>\n      <td>0</td>\n      <td>1</td>\n      <td>0</td>\n      <td>...</td>\n      <td>0</td>\n      <td>0</td>\n      <td>0</td>\n      <td>0</td>\n      <td>0</td>\n      <td>0</td>\n      <td>0</td>\n      <td>0</td>\n      <td>6.500</td>\n      <td>2.755</td>\n    </tr>\n  </tbody>\n</table>\n<p>9742 rows × 25 columns</p>\n</div>"
     },
     "execution_count": 7,
     "metadata": {},
     "output_type": "execute_result"
    }
   ],
   "source": [
    "df_movies['ratings'] = movie_scores\n",
    "df_movies['popularity'] = movie_popularity\n",
    "\n",
    "df_movies"
   ]
  },
  {
   "cell_type": "markdown",
   "source": [
    "## Tags dataset"
   ],
   "metadata": {
    "collapsed": false
   }
  },
  {
   "cell_type": "code",
   "execution_count": 8,
   "outputs": [
    {
     "data": {
      "text/plain": "   userId  movieId                                        tag\n0       2    60756       funny, Highly quotable, will ferrell\n1       2    89774               Boxing story, MMA, Tom Hardy\n2       2   106782  drugs, Leonardo DiCaprio, Martin Scorsese\n3       7    48516                               way too long\n4      18      431                 Al Pacino, gangster, mafia",
      "text/html": "<div>\n<style scoped>\n    .dataframe tbody tr th:only-of-type {\n        vertical-align: middle;\n    }\n\n    .dataframe tbody tr th {\n        vertical-align: top;\n    }\n\n    .dataframe thead th {\n        text-align: right;\n    }\n</style>\n<table border=\"1\" class=\"dataframe\">\n  <thead>\n    <tr style=\"text-align: right;\">\n      <th></th>\n      <th>userId</th>\n      <th>movieId</th>\n      <th>tag</th>\n    </tr>\n  </thead>\n  <tbody>\n    <tr>\n      <th>0</th>\n      <td>2</td>\n      <td>60756</td>\n      <td>funny, Highly quotable, will ferrell</td>\n    </tr>\n    <tr>\n      <th>1</th>\n      <td>2</td>\n      <td>89774</td>\n      <td>Boxing story, MMA, Tom Hardy</td>\n    </tr>\n    <tr>\n      <th>2</th>\n      <td>2</td>\n      <td>106782</td>\n      <td>drugs, Leonardo DiCaprio, Martin Scorsese</td>\n    </tr>\n    <tr>\n      <th>3</th>\n      <td>7</td>\n      <td>48516</td>\n      <td>way too long</td>\n    </tr>\n    <tr>\n      <th>4</th>\n      <td>18</td>\n      <td>431</td>\n      <td>Al Pacino, gangster, mafia</td>\n    </tr>\n  </tbody>\n</table>\n</div>"
     },
     "execution_count": 8,
     "metadata": {},
     "output_type": "execute_result"
    }
   ],
   "source": [
    "tags = pd.read_csv('tags.csv')\n",
    "tags = tags.drop(columns=['timestamp'])\n",
    "tags = tags.groupby(['userId', 'movieId']).agg(lambda x: ', '.join(x)).reset_index()\n",
    "tags.head()"
   ],
   "metadata": {
    "collapsed": false,
    "ExecuteTime": {
     "end_time": "2023-11-09T14:41:37.713303Z",
     "start_time": "2023-11-09T14:41:37.642277700Z"
    }
   }
  },
  {
   "cell_type": "code",
   "execution_count": 9,
   "outputs": [
    {
     "data": {
      "text/plain": "   movieId                                              tag\n0        0                                       fun, pixar\n1        1  fantasy, magic board game, Robin Williams, game\n2        2                                       moldy, old\n3        4                                pregnancy, remake\n4        6                                           remake",
      "text/html": "<div>\n<style scoped>\n    .dataframe tbody tr th:only-of-type {\n        vertical-align: middle;\n    }\n\n    .dataframe tbody tr th {\n        vertical-align: top;\n    }\n\n    .dataframe thead th {\n        text-align: right;\n    }\n</style>\n<table border=\"1\" class=\"dataframe\">\n  <thead>\n    <tr style=\"text-align: right;\">\n      <th></th>\n      <th>movieId</th>\n      <th>tag</th>\n    </tr>\n  </thead>\n  <tbody>\n    <tr>\n      <th>0</th>\n      <td>0</td>\n      <td>fun, pixar</td>\n    </tr>\n    <tr>\n      <th>1</th>\n      <td>1</td>\n      <td>fantasy, magic board game, Robin Williams, game</td>\n    </tr>\n    <tr>\n      <th>2</th>\n      <td>2</td>\n      <td>moldy, old</td>\n    </tr>\n    <tr>\n      <th>3</th>\n      <td>4</td>\n      <td>pregnancy, remake</td>\n    </tr>\n    <tr>\n      <th>4</th>\n      <td>6</td>\n      <td>remake</td>\n    </tr>\n  </tbody>\n</table>\n</div>"
     },
     "execution_count": 9,
     "metadata": {},
     "output_type": "execute_result"
    }
   ],
   "source": [
    "tags_movies = tags.drop(columns=['userId'])\n",
    "tags_movies['movieId'] = tags_movies['movieId'].map(id_to_index_mapping)\n",
    "tags_movies.sort_values(by=['movieId'], inplace=True)\n",
    "tags_movies = tags_movies.groupby(['movieId']).agg(lambda x: ', '.join(set(x))).reset_index()\n",
    "tags_movies.head()"
   ],
   "metadata": {
    "collapsed": false,
    "ExecuteTime": {
     "end_time": "2023-11-09T14:41:37.810750500Z",
     "start_time": "2023-11-09T14:41:37.676932800Z"
    }
   }
  },
  {
   "cell_type": "code",
   "execution_count": 10,
   "outputs": [],
   "source": [
    "tags_movies['tag'] = tags_movies['tag'].apply(lambda x: deep_embedder.encode(x))\n",
    "\n",
    "for i in df_movies['movieId'].values:\n",
    "    if i not in tags_movies['movieId'].values:\n",
    "        tags_movies.loc[len(tags_movies)] = [i, np.zeros(384)]\n",
    "        \n",
    "tags_movies.sort_values(by=['movieId'], inplace=True)\n",
    "tags_movies.reset_index(drop=True, inplace=True)"
   ],
   "metadata": {
    "collapsed": false,
    "ExecuteTime": {
     "end_time": "2023-11-09T14:41:53.190700300Z",
     "start_time": "2023-11-09T14:41:37.765690300Z"
    }
   }
  },
  {
   "cell_type": "code",
   "execution_count": 11,
   "outputs": [
    {
     "data": {
      "text/plain": "   movieId                                                tag\n0        0  [-0.08256744, -0.029170603, 0.009853415, -0.01...\n1        1  [-0.02653289, -0.06287059, -0.06554237, -0.023...\n2        2  [0.037431143, 0.05000431, 0.018335748, 0.00460...\n3        3  [0.0, 0.0, 0.0, 0.0, 0.0, 0.0, 0.0, 0.0, 0.0, ...\n4        4  [-0.07304772, 0.009861652, 0.020973071, 0.0739...",
      "text/html": "<div>\n<style scoped>\n    .dataframe tbody tr th:only-of-type {\n        vertical-align: middle;\n    }\n\n    .dataframe tbody tr th {\n        vertical-align: top;\n    }\n\n    .dataframe thead th {\n        text-align: right;\n    }\n</style>\n<table border=\"1\" class=\"dataframe\">\n  <thead>\n    <tr style=\"text-align: right;\">\n      <th></th>\n      <th>movieId</th>\n      <th>tag</th>\n    </tr>\n  </thead>\n  <tbody>\n    <tr>\n      <th>0</th>\n      <td>0</td>\n      <td>[-0.08256744, -0.029170603, 0.009853415, -0.01...</td>\n    </tr>\n    <tr>\n      <th>1</th>\n      <td>1</td>\n      <td>[-0.02653289, -0.06287059, -0.06554237, -0.023...</td>\n    </tr>\n    <tr>\n      <th>2</th>\n      <td>2</td>\n      <td>[0.037431143, 0.05000431, 0.018335748, 0.00460...</td>\n    </tr>\n    <tr>\n      <th>3</th>\n      <td>3</td>\n      <td>[0.0, 0.0, 0.0, 0.0, 0.0, 0.0, 0.0, 0.0, 0.0, ...</td>\n    </tr>\n    <tr>\n      <th>4</th>\n      <td>4</td>\n      <td>[-0.07304772, 0.009861652, 0.020973071, 0.0739...</td>\n    </tr>\n  </tbody>\n</table>\n</div>"
     },
     "execution_count": 11,
     "metadata": {},
     "output_type": "execute_result"
    }
   ],
   "source": [
    "tags_movies.head()"
   ],
   "metadata": {
    "collapsed": false,
    "ExecuteTime": {
     "end_time": "2023-11-09T14:41:53.198728800Z",
     "start_time": "2023-11-09T14:41:53.191702100Z"
    }
   }
  },
  {
   "cell_type": "markdown",
   "source": [
    "## Choosing a device"
   ],
   "metadata": {
    "collapsed": false
   }
  },
  {
   "cell_type": "code",
   "execution_count": 12,
   "metadata": {
    "ExecuteTime": {
     "end_time": "2023-11-09T14:41:53.206150700Z",
     "start_time": "2023-11-09T14:41:53.198728800Z"
    }
   },
   "outputs": [
    {
     "name": "stdout",
     "output_type": "stream",
     "text": [
      "Using device: cuda\n",
      "Cuda device: NVIDIA GeForce RTX 4070 Laptop GPU\n"
     ]
    }
   ],
   "source": [
    "# Select the device for training (use GPU if you have one)\n",
    "device = torch.device('cuda') if torch.cuda.is_available() else torch.device('cpu')\n",
    "print(f'Using device: {device}')\n",
    "if torch.cuda.is_available():\n",
    "    print(f'Cuda device: {torch.cuda.get_device_name(torch.cuda.current_device())}')"
   ]
  },
  {
   "cell_type": "markdown",
   "metadata": {
    "deletable": false,
    "editable": false,
    "nbgrader": {
     "cell_type": "markdown",
     "checksum": "59060d908a6d0040774a9a7c24a2b78a",
     "grade": false,
     "grade_id": "cell-93b1b51f03178ceb",
     "locked": true,
     "schema_version": 3,
     "solution": false,
     "task": false
    }
   },
   "source": [
    "## Ratings dataset\n",
    "\n",
    "We will train the recommender system on the dataset in which element consists of three values:\n",
    "* `user_id` - id of the user (the smallest user id is 1)\n",
    "* `item_id` - id of the movie (the smallest item id is 1)\n",
    "* `rating` - rating given by the user to the movie .\n",
    "\n",
    "The recommender system need to predict the rating for any given pair of `user_id` and `item_id`.\n",
    "\n",
    "We measure the objective of the predicted ratings using the mean-squared error (MSE) loss"
   ]
  },
  {
   "cell_type": "code",
   "execution_count": 13,
   "metadata": {
    "deletable": false,
    "editable": false,
    "nbgrader": {
     "cell_type": "code",
     "checksum": "49c9bb6f71c5bebac88f572ebc5fdf21",
     "grade": false,
     "grade_id": "cell-fb7ca3b718244670",
     "locked": true,
     "schema_version": 3,
     "solution": false,
     "task": false
    },
    "ExecuteTime": {
     "end_time": "2023-11-09T14:41:53.349594800Z",
     "start_time": "2023-11-09T14:41:53.208151Z"
    }
   },
   "outputs": [],
   "source": [
    "trainset = data.RatingsData(root=None, train=True)\n",
    "testset = data.RatingsData(root=None, train=False)"
   ]
  },
  {
   "cell_type": "code",
   "execution_count": 14,
   "metadata": {
    "ExecuteTime": {
     "end_time": "2023-11-09T14:41:53.358263800Z",
     "start_time": "2023-11-09T14:41:53.353596900Z"
    }
   },
   "outputs": [],
   "source": [
    "trainloader = torch.utils.data.DataLoader(trainset, batch_size=32, shuffle=True)\n",
    "testloader = torch.utils.data.DataLoader(testset, batch_size=10, shuffle=False)"
   ]
  },
  {
   "cell_type": "code",
   "execution_count": 15,
   "metadata": {
    "deletable": false,
    "editable": false,
    "nbgrader": {
     "cell_type": "code",
     "checksum": "aa25e5e6256ec9dcb5dffe5b20d88f87",
     "grade": false,
     "grade_id": "cell-35493e186fda7a43",
     "locked": true,
     "schema_version": 3,
     "solution": false,
     "task": false
    },
    "ExecuteTime": {
     "end_time": "2023-11-09T14:41:53.370257900Z",
     "start_time": "2023-11-09T14:41:53.355860Z"
    }
   },
   "outputs": [
    {
     "name": "stdout",
     "output_type": "stream",
     "text": [
      "user_id=599, item_id=1548, rating=3.5\n"
     ]
    }
   ],
   "source": [
    "# Print one sample from the dataset\n",
    "x = trainset[5]\n",
    "print(f'user_id={x[0]}, item_id={x[1]}, rating={x[2]}')"
   ]
  },
  {
   "cell_type": "code",
   "execution_count": 16,
   "metadata": {
    "deletable": false,
    "nbgrader": {
     "cell_type": "code",
     "checksum": "0e5876624dba2e059f4aea1c65d27dfa",
     "grade": false,
     "grade_id": "cell-c3cffbe259a08d4d",
     "locked": false,
     "schema_version": 3,
     "solution": true,
     "task": false
    },
    "ExecuteTime": {
     "end_time": "2023-11-09T14:41:53.372787900Z",
     "start_time": "2023-11-09T14:41:53.367856Z"
    }
   },
   "outputs": [],
   "source": [
    "class RecommenderSystem(nn.Module):\n",
    "    \n",
    "    def __init__(self, n_users, n_items\n",
    "                ):\n",
    "        \"\"\"\n",
    "        Args:\n",
    "          n_users: Number of users.\n",
    "          n_items: Number of items.\n",
    "        \"\"\"\n",
    "        super(RecommenderSystem, self).__init__()\n",
    "        self.embedding_user = nn.Embedding(n_users+1,10)\n",
    "        self.embedding_item = nn.Embedding(n_items+1,10)\n",
    "        \n",
    "        self.layer_item = self.layers = nn.Sequential(\n",
    "                    nn.Linear(41, 60),\n",
    "                    nn.Tanh(),\n",
    "                    nn.Dropout(0.3),\n",
    "                    nn.Linear(60, 10)\n",
    "                    )\n",
    "        \n",
    "        self.layers = nn.Sequential(\n",
    "                    nn.Linear(20, 40),\n",
    "                    nn.Tanh(),\n",
    "                    nn.Dropout(0.3),\n",
    "                    nn.Linear(40, 10),\n",
    "                    nn.Tanh(),\n",
    "                    nn.Dropout(0.2),\n",
    "                    nn.Linear(10,1)\n",
    "                    )\n",
    "                    \n",
    "        self.encoder = torch.nn.Sequential(\n",
    "            torch.nn.Linear(384, 256),\n",
    "            torch.nn.ReLU(),\n",
    "            torch.nn.Linear(256, 128),\n",
    "            torch.nn.ReLU(),\n",
    "            torch.nn.Linear(128, 64),\n",
    "            torch.nn.ReLU(),\n",
    "            torch.nn.Linear(64, 36),\n",
    "            torch.nn.ReLU(),\n",
    "            torch.nn.Linear(36, 18),\n",
    "            torch.nn.ReLU(),\n",
    "            torch.nn.Linear(18, 5)\n",
    "        )\n",
    "         \n",
    "        self.decoder = torch.nn.Sequential(\n",
    "            torch.nn.Linear(5, 18),\n",
    "            torch.nn.ReLU(),\n",
    "            torch.nn.Linear(18, 36),\n",
    "            torch.nn.ReLU(),\n",
    "            torch.nn.Linear(36, 64),\n",
    "            torch.nn.ReLU(),\n",
    "            torch.nn.Linear(64, 128),\n",
    "            torch.nn.ReLU(),\n",
    "            torch.nn.Linear(128, 256),\n",
    "            torch.nn.ReLU(),\n",
    "            torch.nn.Linear(256, 384),\n",
    "            torch.nn.Sigmoid()\n",
    "        )\n",
    "        \n",
    "    def forward(self, user_ids, item_ids, item_feature, plot_feature, tags_feature):\n",
    "        \"\"\"\n",
    "        Args:\n",
    "          user_ids of shape (batch_size): User ids (starting from 1).\n",
    "          item_ids of shape (batch_size): Item ids (starting from 1).\n",
    "        \n",
    "        Returns:\n",
    "          outputs of shape (batch_size): Predictions of ratings.\n",
    "        \"\"\"\n",
    "        emb_user = self.embedding_user(user_ids)\n",
    "        emb_item = self.embedding_item(item_ids)\n",
    "        emb_plot = self.encoder(plot_feature)\n",
    "        emb_tag = self.encoder(tags_feature)\n",
    "        reconsruct_plot = self.decoder(emb_plot)\n",
    "        fea_item = self.layer_item(torch.concat([item_feature, emb_item, emb_plot, emb_tag],1))\n",
    "        emb_concat = torch.concat([emb_user, fea_item],1)\n",
    "        return self.layers(emb_concat).flatten(), reconsruct_plot"
   ]
  },
  {
   "cell_type": "markdown",
   "metadata": {
    "deletable": false,
    "editable": false,
    "nbgrader": {
     "cell_type": "markdown",
     "checksum": "84fa4c2396a00177cefc9ae035b5ad1c",
     "grade": false,
     "grade_id": "cell-ba8b7cb0e60e0809",
     "locked": true,
     "schema_version": 3,
     "solution": false,
     "task": false
    }
   },
   "source": [
    "## Train the model\n"
   ]
  },
  {
   "cell_type": "code",
   "execution_count": 17,
   "metadata": {
    "ExecuteTime": {
     "end_time": "2023-11-09T14:41:53.406085200Z",
     "start_time": "2023-11-09T14:41:53.372787900Z"
    }
   },
   "outputs": [],
   "source": [
    "pca = PCA(n_components=15)\n",
    "movie_plot_arr = np.stack(movie_plot).astype('float32')\n",
    "#movie_plot_arr_compact = pca.fit_transform(movie_plot_arr)\n",
    "#movie_plot_arr_compact.shape"
   ]
  },
  {
   "cell_type": "code",
   "execution_count": 18,
   "outputs": [],
   "source": [
    "tags_arr = np.stack(tags_movies.tag).astype('float32')"
   ],
   "metadata": {
    "collapsed": false,
    "ExecuteTime": {
     "end_time": "2023-11-09T14:41:53.420661300Z",
     "start_time": "2023-11-09T14:41:53.395811900Z"
    }
   }
  },
  {
   "cell_type": "code",
   "execution_count": 19,
   "metadata": {
    "ExecuteTime": {
     "end_time": "2023-11-09T14:41:53.439826100Z",
     "start_time": "2023-11-09T14:41:53.420661300Z"
    }
   },
   "outputs": [
    {
     "data": {
      "text/plain": "torch.Size([9742, 21])"
     },
     "execution_count": 19,
     "metadata": {},
     "output_type": "execute_result"
    }
   ],
   "source": [
    "movie_features= df_movies.drop(columns=['movieId', 'title', 'tmdbId', 'imdbId']).to_numpy().astype('float32')\n",
    "\n",
    "# min max scaling\n",
    "movie_features = (movie_features- np.nanmin(movie_features,0)) / (np.nanmax(movie_features,0) - np.nanmin(movie_features,0))\n",
    "movie_features[np.isnan(movie_features)] = 0\n",
    "\n",
    "# convert to tensor\n",
    "with torch.no_grad():\n",
    "    item_features = torch.tensor(movie_features)\n",
    "    plot_tensor = torch.tensor(movie_plot_arr)\n",
    "    tags_tensor = torch.tensor(tags_arr)\n",
    "item_features.shape"
   ]
  },
  {
   "cell_type": "code",
   "execution_count": 20,
   "metadata": {
    "deletable": false,
    "editable": false,
    "nbgrader": {
     "cell_type": "code",
     "checksum": "9de82b03bc4514fc2e9c8e71fe0eab6f",
     "grade": false,
     "grade_id": "cell-d149dfc0245469b4",
     "locked": true,
     "schema_version": 3,
     "solution": false,
     "task": false
    },
    "ExecuteTime": {
     "end_time": "2023-11-09T14:41:53.507118300Z",
     "start_time": "2023-11-09T14:41:53.431799400Z"
    }
   },
   "outputs": [
    {
     "data": {
      "text/plain": "RecommenderSystem(\n  (embedding_user): Embedding(611, 10)\n  (embedding_item): Embedding(9743, 10)\n  (layer_item): Sequential(\n    (0): Linear(in_features=41, out_features=60, bias=True)\n    (1): Tanh()\n    (2): Dropout(p=0.3, inplace=False)\n    (3): Linear(in_features=60, out_features=10, bias=True)\n  )\n  (layers): Sequential(\n    (0): Linear(in_features=20, out_features=40, bias=True)\n    (1): Tanh()\n    (2): Dropout(p=0.3, inplace=False)\n    (3): Linear(in_features=40, out_features=10, bias=True)\n    (4): Tanh()\n    (5): Dropout(p=0.2, inplace=False)\n    (6): Linear(in_features=10, out_features=1, bias=True)\n  )\n  (encoder): Sequential(\n    (0): Linear(in_features=384, out_features=256, bias=True)\n    (1): ReLU()\n    (2): Linear(in_features=256, out_features=128, bias=True)\n    (3): ReLU()\n    (4): Linear(in_features=128, out_features=64, bias=True)\n    (5): ReLU()\n    (6): Linear(in_features=64, out_features=36, bias=True)\n    (7): ReLU()\n    (8): Linear(in_features=36, out_features=18, bias=True)\n    (9): ReLU()\n    (10): Linear(in_features=18, out_features=5, bias=True)\n  )\n  (decoder): Sequential(\n    (0): Linear(in_features=5, out_features=18, bias=True)\n    (1): ReLU()\n    (2): Linear(in_features=18, out_features=36, bias=True)\n    (3): ReLU()\n    (4): Linear(in_features=36, out_features=64, bias=True)\n    (5): ReLU()\n    (6): Linear(in_features=64, out_features=128, bias=True)\n    (7): ReLU()\n    (8): Linear(in_features=128, out_features=256, bias=True)\n    (9): ReLU()\n    (10): Linear(in_features=256, out_features=384, bias=True)\n    (11): Sigmoid()\n  )\n)"
     },
     "execution_count": 20,
     "metadata": {},
     "output_type": "execute_result"
    }
   ],
   "source": [
    "# Create the model\n",
    "# IMPORTANT: the default value of the architecture argment should define your best model.\n",
    "model = RecommenderSystem(610, 9742)\n",
    "model.to(device)"
   ]
  },
  {
   "cell_type": "code",
   "execution_count": 21,
   "metadata": {
    "ExecuteTime": {
     "end_time": "2023-11-09T14:41:53.508117Z",
     "start_time": "2023-11-09T14:41:53.462556700Z"
    }
   },
   "outputs": [],
   "source": [
    "def get_mse(a, crit, loader):\n",
    "    mse_total = 0\n",
    "    iters = 0\n",
    "    a.eval()\n",
    "    with torch.no_grad():\n",
    "        for ser_ids, item_ids, rating in loader:\n",
    "            item_fea = item_features[item_ids]\n",
    "            plot_emb = plot_tensor[item_ids]\n",
    "            tags_emb = tags_tensor[item_ids]\n",
    "            prediction, _ = a(ser_ids.to(device), item_ids.to(device), item_fea.to(device), plot_emb.to(device), tags_emb.to(device))\n",
    "            mse_total += crit(prediction, rating.to(device)).item()\n",
    "            iters+= 1\n",
    "    return mse_total/iters"
   ]
  },
  {
   "cell_type": "code",
   "execution_count": 22,
   "metadata": {
    "deletable": false,
    "nbgrader": {
     "cell_type": "code",
     "checksum": "9ae611f86dc42c930a1421847d3310e8",
     "grade": false,
     "grade_id": "cell-d821843867334aed",
     "locked": false,
     "schema_version": 3,
     "solution": true,
     "task": false
    },
    "ExecuteTime": {
     "end_time": "2023-11-09T14:56:10.925247700Z",
     "start_time": "2023-11-09T14:41:53.466098600Z"
    }
   },
   "outputs": [
    {
     "name": "stdout",
     "output_type": "stream",
     "text": [
      "Epoch 0\n",
      "Training 0.9683802709107548 Test 0.9797355087273801\n",
      "Epoch 1\n",
      "Training 0.8501506937207423 Test 0.8582299852535245\n",
      "Epoch 2\n",
      "Training 0.7255647212314209 Test 0.7323021168043707\n",
      "Epoch 3\n",
      "Training 0.6875169100457834 Test 0.6956319761344406\n",
      "Epoch 4\n",
      "Training 0.6762708908376217 Test 0.6829636210777272\n",
      "Epoch 5\n",
      "Training 0.6708957639148622 Test 0.6800222963042066\n",
      "Epoch 6\n",
      "Training 0.6765532979164649 Test 0.6846515666686522\n",
      "Epoch 7\n",
      "Training 0.6623444152062774 Test 0.6709735672318301\n",
      "Epoch 8\n",
      "Training 0.6522823447204213 Test 0.6620263728528228\n",
      "Epoch 9\n",
      "Training 0.6544276886648812 Test 0.6632956502638416\n",
      "Epoch 10\n",
      "Training 0.6539595707902262 Test 0.6635599104682722\n",
      "Epoch 11\n",
      "Training 0.6485752619090699 Test 0.65713189676537\n",
      "Epoch 12\n",
      "Training 0.6530280392979024 Test 0.6620171662695725\n",
      "Epoch 13\n",
      "Training 0.6410633005033358 Test 0.6500610618863508\n",
      "Epoch 14\n",
      "Training 0.6473460127287373 Test 0.6557841229741903\n",
      "Epoch 15\n",
      "Training 0.6576382068001718 Test 0.6686289056016194\n",
      "Epoch 16\n",
      "Training 0.6477688832481151 Test 0.6566654525450634\n",
      "Epoch 17\n",
      "Training 0.6464289668733191 Test 0.6557346224499463\n",
      "Epoch 18\n",
      "Training 0.641855082900597 Test 0.65277452184481\n",
      "Epoch 19\n",
      "Training 0.6415065238691899 Test 0.6520940528544585\n",
      "Epoch 20\n",
      "Training 0.6432117152100563 Test 0.6522587982362068\n",
      "Epoch 21\n",
      "Training 0.6377057333885796 Test 0.6476968463334332\n",
      "Epoch 22\n",
      "Training 0.6432342638174062 Test 0.6520932694005562\n",
      "Epoch 23\n",
      "Training 0.6418194514697433 Test 0.6522290234773653\n",
      "Epoch 24\n",
      "Training 0.6441572459502525 Test 0.6538312952770159\n",
      "Epoch 25\n",
      "Training 0.6389628443416269 Test 0.6490596762143821\n",
      "Epoch 26\n",
      "Training 0.6388937708925794 Test 0.6487237076600961\n",
      "Epoch 27\n",
      "Training 0.6397190086014543 Test 0.6482463645176978\n",
      "Epoch 28\n",
      "Training 0.6405934985492117 Test 0.6483999361440279\n",
      "Epoch 29\n",
      "Training 0.6449933927572705 Test 0.6542128245611203\n",
      "CPU times: total: 49.7 s\n",
      "Wall time: 14min 17s\n"
     ]
    }
   ],
   "source": [
    "%%time\n",
    "\n",
    "optim = torch.optim.Adam(model.parameters(), lr=0.0005,  weight_decay=0.001)\n",
    "criterion = nn.MSELoss()\n",
    "for i in range(30):\n",
    "    model.train()\n",
    "    for ser_ids, item_ids, rating in trainloader:\n",
    "        optim.zero_grad()\n",
    "        item_fea = item_features[item_ids]\n",
    "        plot_emb = plot_tensor[item_ids] \n",
    "        tags_emb = tags_tensor[item_ids]\n",
    "        \n",
    "        ser_ids = ser_ids.to(device)\n",
    "        item_ids = item_ids.to(device)\n",
    "        item_fea = item_fea.to(device)\n",
    "        plot_emb = plot_emb.to(device)\n",
    "        tags_emb = tags_emb.to(device)\n",
    "        rating = rating.to(device)\n",
    "        \n",
    "        prediction, reconst_plot = model(ser_ids, item_ids, item_fea, plot_emb, tags_emb)\n",
    "        \n",
    "        prediction = prediction.to(device)\n",
    "        reconst_plot = reconst_plot.to(device)\n",
    "        \n",
    "        loss = criterion(prediction, rating) + 0.1 * criterion(reconst_plot,plot_emb)\n",
    "        loss.backward()\n",
    "        optim.step()\n",
    "    print(\"Epoch\", i)\n",
    "    print(\"Training\", get_mse(model,criterion, trainloader), \"Test\", get_mse(model,criterion, testloader))\n",
    "    "
   ]
  },
  {
   "cell_type": "code",
   "execution_count": 23,
   "metadata": {
    "ExecuteTime": {
     "end_time": "2023-11-09T14:56:11.056767200Z",
     "start_time": "2023-11-09T14:56:10.954051300Z"
    }
   },
   "outputs": [
    {
     "data": {
      "text/plain": "          Id  userId  movieId\n0          0     431     7333\n1          1     287      412\n2          2     598     3222\n3          3      41     2250\n4          4      74     1211\n...      ...     ...      ...\n20163  20163     379     3666\n20164  20164     433     6530\n20165  20165     225     4159\n20166  20166     606     1009\n20167  20167     566      602\n\n[20168 rows x 3 columns]",
      "text/html": "<div>\n<style scoped>\n    .dataframe tbody tr th:only-of-type {\n        vertical-align: middle;\n    }\n\n    .dataframe tbody tr th {\n        vertical-align: top;\n    }\n\n    .dataframe thead th {\n        text-align: right;\n    }\n</style>\n<table border=\"1\" class=\"dataframe\">\n  <thead>\n    <tr style=\"text-align: right;\">\n      <th></th>\n      <th>Id</th>\n      <th>userId</th>\n      <th>movieId</th>\n    </tr>\n  </thead>\n  <tbody>\n    <tr>\n      <th>0</th>\n      <td>0</td>\n      <td>431</td>\n      <td>7333</td>\n    </tr>\n    <tr>\n      <th>1</th>\n      <td>1</td>\n      <td>287</td>\n      <td>412</td>\n    </tr>\n    <tr>\n      <th>2</th>\n      <td>2</td>\n      <td>598</td>\n      <td>3222</td>\n    </tr>\n    <tr>\n      <th>3</th>\n      <td>3</td>\n      <td>41</td>\n      <td>2250</td>\n    </tr>\n    <tr>\n      <th>4</th>\n      <td>4</td>\n      <td>74</td>\n      <td>1211</td>\n    </tr>\n    <tr>\n      <th>...</th>\n      <td>...</td>\n      <td>...</td>\n      <td>...</td>\n    </tr>\n    <tr>\n      <th>20163</th>\n      <td>20163</td>\n      <td>379</td>\n      <td>3666</td>\n    </tr>\n    <tr>\n      <th>20164</th>\n      <td>20164</td>\n      <td>433</td>\n      <td>6530</td>\n    </tr>\n    <tr>\n      <th>20165</th>\n      <td>20165</td>\n      <td>225</td>\n      <td>4159</td>\n    </tr>\n    <tr>\n      <th>20166</th>\n      <td>20166</td>\n      <td>606</td>\n      <td>1009</td>\n    </tr>\n    <tr>\n      <th>20167</th>\n      <td>20167</td>\n      <td>566</td>\n      <td>602</td>\n    </tr>\n  </tbody>\n</table>\n<p>20168 rows × 3 columns</p>\n</div>"
     },
     "execution_count": 23,
     "metadata": {},
     "output_type": "execute_result"
    }
   ],
   "source": [
    "test_set = pd.read_csv('test_set_no_ratings.csv')\n",
    "test_set['movieId'] = test_set['movieId'].map(id_to_index_mapping)\n",
    "sorted_unique_users = sorted(pd.read_csv('train_ratings.csv')['userId'].unique())\n",
    "\n",
    "userid_to_index_mapping = {id: idx for idx, id in enumerate(sorted_unique_users)}\n",
    "test_set['userId'] = test_set['userId'].map(userid_to_index_mapping)\n",
    "test_set"
   ]
  },
  {
   "cell_type": "code",
   "execution_count": 24,
   "metadata": {
    "ExecuteTime": {
     "end_time": "2023-11-09T14:56:11.158865Z",
     "start_time": "2023-11-09T14:56:11.014249Z"
    }
   },
   "outputs": [
    {
     "data": {
      "text/plain": "tensor([2.8655, 3.4250, 2.4374,  ..., 3.8764, 3.5083, 3.0354], device='cuda:0',\n       grad_fn=<ViewBackward0>)"
     },
     "execution_count": 24,
     "metadata": {},
     "output_type": "execute_result"
    }
   ],
   "source": [
    "model.eval()\n",
    "test_users = torch.LongTensor(test_set.userId.to_numpy())\n",
    "test_items = torch.LongTensor(test_set.movieId.to_numpy())\n",
    "prediction, _ = model(test_users.to(device),test_items.to(device), item_features[test_items].to(device), plot_tensor[test_items].to(device), tags_tensor[test_items].to(device))\n",
    "prediction"
   ]
  },
  {
   "cell_type": "code",
   "execution_count": 25,
   "metadata": {
    "ExecuteTime": {
     "end_time": "2023-11-09T14:56:11.158865Z",
     "start_time": "2023-11-09T14:56:11.139548900Z"
    }
   },
   "outputs": [
    {
     "data": {
      "text/plain": "          Id  userId  movieId    rating\n0          0     431     7333  2.865517\n1          1     287      412  3.424976\n2          2     598     3222  2.437369\n3          3      41     2250  3.828244\n4          4      74     1211  3.480400\n...      ...     ...      ...       ...\n20163  20163     379     3666  3.479909\n20164  20164     433     6530  3.449019\n20165  20165     225     4159  3.876406\n20166  20166     606     1009  3.508266\n20167  20167     566      602  3.035383\n\n[20168 rows x 4 columns]",
      "text/html": "<div>\n<style scoped>\n    .dataframe tbody tr th:only-of-type {\n        vertical-align: middle;\n    }\n\n    .dataframe tbody tr th {\n        vertical-align: top;\n    }\n\n    .dataframe thead th {\n        text-align: right;\n    }\n</style>\n<table border=\"1\" class=\"dataframe\">\n  <thead>\n    <tr style=\"text-align: right;\">\n      <th></th>\n      <th>Id</th>\n      <th>userId</th>\n      <th>movieId</th>\n      <th>rating</th>\n    </tr>\n  </thead>\n  <tbody>\n    <tr>\n      <th>0</th>\n      <td>0</td>\n      <td>431</td>\n      <td>7333</td>\n      <td>2.865517</td>\n    </tr>\n    <tr>\n      <th>1</th>\n      <td>1</td>\n      <td>287</td>\n      <td>412</td>\n      <td>3.424976</td>\n    </tr>\n    <tr>\n      <th>2</th>\n      <td>2</td>\n      <td>598</td>\n      <td>3222</td>\n      <td>2.437369</td>\n    </tr>\n    <tr>\n      <th>3</th>\n      <td>3</td>\n      <td>41</td>\n      <td>2250</td>\n      <td>3.828244</td>\n    </tr>\n    <tr>\n      <th>4</th>\n      <td>4</td>\n      <td>74</td>\n      <td>1211</td>\n      <td>3.480400</td>\n    </tr>\n    <tr>\n      <th>...</th>\n      <td>...</td>\n      <td>...</td>\n      <td>...</td>\n      <td>...</td>\n    </tr>\n    <tr>\n      <th>20163</th>\n      <td>20163</td>\n      <td>379</td>\n      <td>3666</td>\n      <td>3.479909</td>\n    </tr>\n    <tr>\n      <th>20164</th>\n      <td>20164</td>\n      <td>433</td>\n      <td>6530</td>\n      <td>3.449019</td>\n    </tr>\n    <tr>\n      <th>20165</th>\n      <td>20165</td>\n      <td>225</td>\n      <td>4159</td>\n      <td>3.876406</td>\n    </tr>\n    <tr>\n      <th>20166</th>\n      <td>20166</td>\n      <td>606</td>\n      <td>1009</td>\n      <td>3.508266</td>\n    </tr>\n    <tr>\n      <th>20167</th>\n      <td>20167</td>\n      <td>566</td>\n      <td>602</td>\n      <td>3.035383</td>\n    </tr>\n  </tbody>\n</table>\n<p>20168 rows × 4 columns</p>\n</div>"
     },
     "execution_count": 25,
     "metadata": {},
     "output_type": "execute_result"
    }
   ],
   "source": [
    "test_set['rating'] = prediction.cpu().detach().numpy()\n",
    "test_set"
   ]
  },
  {
   "cell_type": "code",
   "execution_count": 26,
   "metadata": {
    "ExecuteTime": {
     "end_time": "2023-11-09T14:56:11.159877500Z",
     "start_time": "2023-11-09T14:56:11.145708100Z"
    }
   },
   "outputs": [
    {
     "data": {
      "text/plain": "          Id    rating\n0          0  2.865517\n1          1  3.424976\n2          2  2.437369\n3          3  3.828244\n4          4  3.480400\n...      ...       ...\n20163  20163  3.479909\n20164  20164  3.449019\n20165  20165  3.876406\n20166  20166  3.508266\n20167  20167  3.035383\n\n[20168 rows x 2 columns]",
      "text/html": "<div>\n<style scoped>\n    .dataframe tbody tr th:only-of-type {\n        vertical-align: middle;\n    }\n\n    .dataframe tbody tr th {\n        vertical-align: top;\n    }\n\n    .dataframe thead th {\n        text-align: right;\n    }\n</style>\n<table border=\"1\" class=\"dataframe\">\n  <thead>\n    <tr style=\"text-align: right;\">\n      <th></th>\n      <th>Id</th>\n      <th>rating</th>\n    </tr>\n  </thead>\n  <tbody>\n    <tr>\n      <th>0</th>\n      <td>0</td>\n      <td>2.865517</td>\n    </tr>\n    <tr>\n      <th>1</th>\n      <td>1</td>\n      <td>3.424976</td>\n    </tr>\n    <tr>\n      <th>2</th>\n      <td>2</td>\n      <td>2.437369</td>\n    </tr>\n    <tr>\n      <th>3</th>\n      <td>3</td>\n      <td>3.828244</td>\n    </tr>\n    <tr>\n      <th>4</th>\n      <td>4</td>\n      <td>3.480400</td>\n    </tr>\n    <tr>\n      <th>...</th>\n      <td>...</td>\n      <td>...</td>\n    </tr>\n    <tr>\n      <th>20163</th>\n      <td>20163</td>\n      <td>3.479909</td>\n    </tr>\n    <tr>\n      <th>20164</th>\n      <td>20164</td>\n      <td>3.449019</td>\n    </tr>\n    <tr>\n      <th>20165</th>\n      <td>20165</td>\n      <td>3.876406</td>\n    </tr>\n    <tr>\n      <th>20166</th>\n      <td>20166</td>\n      <td>3.508266</td>\n    </tr>\n    <tr>\n      <th>20167</th>\n      <td>20167</td>\n      <td>3.035383</td>\n    </tr>\n  </tbody>\n</table>\n<p>20168 rows × 2 columns</p>\n</div>"
     },
     "execution_count": 26,
     "metadata": {},
     "output_type": "execute_result"
    }
   ],
   "source": [
    "submission= test_set.drop(columns=['userId', 'movieId'])\n",
    "submission"
   ]
  },
  {
   "cell_type": "code",
   "execution_count": 27,
   "metadata": {
    "ExecuteTime": {
     "end_time": "2023-11-09T14:56:11.190616500Z",
     "start_time": "2023-11-09T14:56:11.152865500Z"
    }
   },
   "outputs": [],
   "source": [
    "submission.to_csv('submission.csv', index=False)"
   ]
  },
  {
   "cell_type": "code",
   "execution_count": 67,
   "metadata": {
    "ExecuteTime": {
     "end_time": "2023-11-09T14:36:46.464280800Z",
     "start_time": "2023-11-09T14:36:46.462772700Z"
    }
   },
   "outputs": [],
   "source": [
    "import matplotlib.pyplot as plt"
   ]
  },
  {
   "cell_type": "code",
   "execution_count": 69,
   "metadata": {
    "ExecuteTime": {
     "end_time": "2023-11-09T14:37:00.636891200Z",
     "start_time": "2023-11-09T14:37:00.522834300Z"
    }
   },
   "outputs": [
    {
     "data": {
      "text/plain": "(array([0.000e+00, 0.000e+00, 8.000e+00, 3.180e+02, 1.278e+03, 2.937e+03,\n        5.218e+03, 9.844e+03, 5.620e+02, 3.000e+00]),\n array([0. , 0.5, 1. , 1.5, 2. , 2.5, 3. , 3.5, 4.5, 5. , 5.5]),\n <BarContainer object of 10 artists>)"
     },
     "execution_count": 69,
     "metadata": {},
     "output_type": "execute_result"
    },
    {
     "data": {
      "text/plain": "<Figure size 640x480 with 1 Axes>",
      "image/png": "[encoded data removed]"
     },
     "metadata": {},
     "output_type": "display_data"
    }
   ],
   "source": [
    "plt.hist(prediction.detach().to('cpu').numpy(),bins=[0,0.5,1,1.5,2,2.5,3,3.5,4.5,5,5.5])"
   ]
  },
  {
   "cell_type": "code",
   "execution_count": null,
   "metadata": {
    "ExecuteTime": {
     "start_time": "2023-11-02T16:28:50.287792100Z"
    }
   },
   "outputs": [],
   "source": [
    "# Save the model to local disk \n",
    "# Set confirm=False if you do not want to be asked for confirmation before saving.\n",
    "tools.save_model(model, 'recsys.pth', confirm=True)"
   ]
  },
  {
   "cell_type": "code",
   "execution_count": null,
   "metadata": {
    "deletable": false,
    "editable": false,
    "nbgrader": {
     "cell_type": "code",
     "checksum": "13f9cd9f77491dbdc099d1f0abb4ddbd",
     "grade": false,
     "grade_id": "cell-f1407ea48ef44720",
     "locked": true,
     "schema_version": 3,
     "solution": false,
     "task": false
    },
    "ExecuteTime": {
     "start_time": "2023-11-02T16:28:50.287792100Z"
    }
   },
   "outputs": [],
   "source": [
    "# This cell loads the saved model\n",
    "model = RecommenderSystem(trainset.n_users, trainset.n_items)\n",
    "tools.load_model(model, 'recsys.pth', device)"
   ]
  }
 ],
 "metadata": {
  "kernelspec": {
   "display_name": "Python 3",
   "language": "python",
   "name": "python3"
  },
  "language_info": {
   "codemirror_mode": {
    "name": "ipython",
    "version": 3
   },
   "file_extension": ".py",
   "mimetype": "text/x-python",
   "name": "python",
   "nbconvert_exporter": "python",
   "pygments_lexer": "ipython3",
   "version": "3.10.13"
  },
  "varInspector": {
   "cols": {
    "lenName": 16,
    "lenType": 16,
    "lenVar": 40
   },
   "kernels_config": {
    "python": {
     "delete_cmd_postfix": "",
     "delete_cmd_prefix": "del ",
     "library": "var_list.py",
     "varRefreshCmd": "print(var_dic_list())"
    },
    "r": {
     "delete_cmd_postfix": ") ",
     "delete_cmd_prefix": "rm(",
     "library": "var_list.r",
     "varRefreshCmd": "cat(var_dic_list()) "
    }
   },
   "types_to_exclude": [
    "module",
    "function",
    "builtin_function_or_method",
    "instance",
    "_Feature"
   ],
   "window_display": false
  }
 },
 "nbformat": 4,
 "nbformat_minor": 4
}
