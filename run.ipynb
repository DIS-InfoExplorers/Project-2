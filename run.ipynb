{
 "cells": [
  {
   "cell_type": "markdown",
   "id": "a5d5baab",
   "metadata": {
    "deletable": false,
    "nbgrader": {
     "cell_type": "markdown",
     "checksum": "18dee13d42cbaed8a305e5fa800f59b1",
     "grade": false,
     "grade_id": "cell-c793b2b7fc5465d8",
     "locked": true,
     "schema_version": 3,
     "solution": false,
     "task": false
    },
    "papermill": {
     "duration": 0.009067,
     "end_time": "2023-11-19T13:51:37.985090",
     "exception": false,
     "start_time": "2023-11-19T13:51:37.976023",
     "status": "completed"
    },
    "tags": []
   },
   "source": [
    "# Project 2. InfoExplorers."
   ]
  },
  {
   "cell_type": "code",
   "execution_count": 1,
   "id": "32a29f42",
   "metadata": {
    "ExecuteTime": {
     "end_time": "2023-11-09T16:07:55.915954200Z",
     "start_time": "2023-11-09T16:07:52.822229500Z"
    },
    "execution": {
     "iopub.execute_input": "2023-11-19T13:51:38.004159Z",
     "iopub.status.busy": "2023-11-19T13:51:38.002987Z",
     "iopub.status.idle": "2023-11-19T13:51:42.434313Z",
     "shell.execute_reply": "2023-11-19T13:51:42.433398Z"
    },
    "papermill": {
     "duration": 4.443345,
     "end_time": "2023-11-19T13:51:42.436940",
     "exception": false,
     "start_time": "2023-11-19T13:51:37.993595",
     "status": "completed"
    },
    "tags": []
   },
   "outputs": [],
   "source": [
    "import os\n",
    "import pandas as pd\n",
    "import numpy as np\n",
    "import matplotlib.pyplot as plt\n",
    "from tqdm.auto import tqdm\n",
    "import torch\n",
    "import torch.nn as nn\n",
    "import torch.optim as optim\n",
    "import torch.nn.functional as F\n",
    "from torch.utils.data import TensorDataset\n",
    "import pickle\n",
    "import random"
   ]
  },
  {
   "cell_type": "code",
   "execution_count": 2,
   "id": "72cbd113",
   "metadata": {
    "execution": {
     "iopub.execute_input": "2023-11-19T13:51:42.457491Z",
     "iopub.status.busy": "2023-11-19T13:51:42.456974Z",
     "iopub.status.idle": "2023-11-19T13:51:42.465578Z",
     "shell.execute_reply": "2023-11-19T13:51:42.464756Z"
    },
    "papermill": {
     "duration": 0.021361,
     "end_time": "2023-11-19T13:51:42.467842",
     "exception": false,
     "start_time": "2023-11-19T13:51:42.446481",
     "status": "completed"
    },
    "tags": []
   },
   "outputs": [],
   "source": [
    "random.seed(0)\n",
    "torch.manual_seed(0)\n",
    "np.random.seed(0)"
   ]
  },
  {
   "cell_type": "markdown",
   "id": "eef6b2ee",
   "metadata": {
    "papermill": {
     "duration": 0.009141,
     "end_time": "2023-11-19T13:51:42.486864",
     "exception": false,
     "start_time": "2023-11-19T13:51:42.477723",
     "status": "completed"
    },
    "tags": []
   },
   "source": [
    "## Data loading"
   ]
  },
  {
   "cell_type": "code",
   "execution_count": 3,
   "id": "33af132c",
   "metadata": {
    "execution": {
     "iopub.execute_input": "2023-11-19T13:51:42.506947Z",
     "iopub.status.busy": "2023-11-19T13:51:42.506591Z",
     "iopub.status.idle": "2023-11-19T13:51:42.516419Z",
     "shell.execute_reply": "2023-11-19T13:51:42.515536Z"
    },
    "papermill": {
     "duration": 0.022196,
     "end_time": "2023-11-19T13:51:42.518432",
     "exception": false,
     "start_time": "2023-11-19T13:51:42.496236",
     "status": "completed"
    },
    "tags": []
   },
   "outputs": [],
   "source": [
    "class RatingsData(TensorDataset):\n",
    "    \"\"\"\n",
    "    Class overriding TensorDataset for returning user and movie id along with corresponding rating\n",
    "    \"\"\"\n",
    "    \n",
    "    def __init__(self, root, train=True):\n",
    "        self.n_users = 943\n",
    "        self.n_items = 1682\n",
    "        \n",
    "        filename = '/kaggle/input/dis-project-2-recommender-systems/train_ratings.csv'\n",
    "\n",
    "        df = pd.read_csv(filename)\n",
    "\n",
    "        ratio = 0.7\n",
    "\n",
    "        if train:\n",
    "            df = df\n",
    "        else:\n",
    "            df = df.iloc[int(len(df) * ratio):]\n",
    "\n",
    "        # Mapping for movie ids based on movies.csv dataset\n",
    "        sorted_unique_ids = sorted(pd.read_csv('/kaggle/input/dis-project-2-recommender-systems/movies.csv')['movieId'].unique())\n",
    "        id_to_index_mapping = {id: idx for idx, id in enumerate(sorted_unique_ids)}\n",
    "        \n",
    "        # Replace values in the 'movieId' column with the corresponding indices\n",
    "        df['movieId'] = df['movieId'].map(id_to_index_mapping)\n",
    "\n",
    "        # Mapping for user ids\n",
    "        sorted_unique_ids = sorted(df['userId'].unique())\n",
    "        id_to_index_mapping = {id: idx for idx, id in enumerate(sorted_unique_ids)}\n",
    "        \n",
    "        # Replace values in the 'userId' column with the corresponding indices\n",
    "        df['userId'] = df['userId'].map(id_to_index_mapping)\n",
    "        \n",
    "        # Convert user ids, item ids, and ratings to PyTorch tensors\n",
    "        user_ids = torch.LongTensor(df.userId.values)\n",
    "        item_ids = torch.LongTensor(df.movieId.values)\n",
    "        ratings = torch.Tensor(df.rating.values)\n",
    "\n",
    "        super(RatingsData, self).__init__(user_ids, item_ids, ratings)"
   ]
  },
  {
   "cell_type": "code",
   "execution_count": 4,
   "id": "dde44041",
   "metadata": {
    "ExecuteTime": {
     "end_time": "2023-11-09T16:07:56.011126600Z",
     "start_time": "2023-11-09T16:07:55.917954200Z"
    },
    "execution": {
     "iopub.execute_input": "2023-11-19T13:51:42.536301Z",
     "iopub.status.busy": "2023-11-19T13:51:42.535977Z",
     "iopub.status.idle": "2023-11-19T13:51:42.809659Z",
     "shell.execute_reply": "2023-11-19T13:51:42.808635Z"
    },
    "papermill": {
     "duration": 0.285236,
     "end_time": "2023-11-19T13:51:42.811947",
     "exception": false,
     "start_time": "2023-11-19T13:51:42.526711",
     "status": "completed"
    },
    "tags": []
   },
   "outputs": [
    {
     "data": {
      "text/html": [
       "<div>\n",
       "<style scoped>\n",
       "    .dataframe tbody tr th:only-of-type {\n",
       "        vertical-align: middle;\n",
       "    }\n",
       "\n",
       "    .dataframe tbody tr th {\n",
       "        vertical-align: top;\n",
       "    }\n",
       "\n",
       "    .dataframe thead th {\n",
       "        text-align: right;\n",
       "    }\n",
       "</style>\n",
       "<table border=\"1\" class=\"dataframe\">\n",
       "  <thead>\n",
       "    <tr style=\"text-align: right;\">\n",
       "      <th></th>\n",
       "      <th>movieId</th>\n",
       "      <th>title</th>\n",
       "      <th>tmdbId</th>\n",
       "      <th>imdbId</th>\n",
       "      <th>Action</th>\n",
       "      <th>Adventure</th>\n",
       "      <th>Animation</th>\n",
       "      <th>Children</th>\n",
       "      <th>Comedy</th>\n",
       "      <th>Crime</th>\n",
       "      <th>...</th>\n",
       "      <th>Film-Noir</th>\n",
       "      <th>Horror</th>\n",
       "      <th>IMAX</th>\n",
       "      <th>Musical</th>\n",
       "      <th>Mystery</th>\n",
       "      <th>Romance</th>\n",
       "      <th>Sci-Fi</th>\n",
       "      <th>Thriller</th>\n",
       "      <th>War</th>\n",
       "      <th>Western</th>\n",
       "    </tr>\n",
       "  </thead>\n",
       "  <tbody>\n",
       "    <tr>\n",
       "      <th>0</th>\n",
       "      <td>0</td>\n",
       "      <td>Toy Story (1995)</td>\n",
       "      <td>862.0</td>\n",
       "      <td>114709</td>\n",
       "      <td>0</td>\n",
       "      <td>1</td>\n",
       "      <td>1</td>\n",
       "      <td>1</td>\n",
       "      <td>1</td>\n",
       "      <td>0</td>\n",
       "      <td>...</td>\n",
       "      <td>0</td>\n",
       "      <td>0</td>\n",
       "      <td>0</td>\n",
       "      <td>0</td>\n",
       "      <td>0</td>\n",
       "      <td>0</td>\n",
       "      <td>0</td>\n",
       "      <td>0</td>\n",
       "      <td>0</td>\n",
       "      <td>0</td>\n",
       "    </tr>\n",
       "    <tr>\n",
       "      <th>1</th>\n",
       "      <td>1</td>\n",
       "      <td>Jumanji (1995)</td>\n",
       "      <td>8844.0</td>\n",
       "      <td>113497</td>\n",
       "      <td>0</td>\n",
       "      <td>1</td>\n",
       "      <td>0</td>\n",
       "      <td>1</td>\n",
       "      <td>0</td>\n",
       "      <td>0</td>\n",
       "      <td>...</td>\n",
       "      <td>0</td>\n",
       "      <td>0</td>\n",
       "      <td>0</td>\n",
       "      <td>0</td>\n",
       "      <td>0</td>\n",
       "      <td>0</td>\n",
       "      <td>0</td>\n",
       "      <td>0</td>\n",
       "      <td>0</td>\n",
       "      <td>0</td>\n",
       "    </tr>\n",
       "    <tr>\n",
       "      <th>2</th>\n",
       "      <td>2</td>\n",
       "      <td>Grumpier Old Men (1995)</td>\n",
       "      <td>15602.0</td>\n",
       "      <td>113228</td>\n",
       "      <td>0</td>\n",
       "      <td>0</td>\n",
       "      <td>0</td>\n",
       "      <td>0</td>\n",
       "      <td>1</td>\n",
       "      <td>0</td>\n",
       "      <td>...</td>\n",
       "      <td>0</td>\n",
       "      <td>0</td>\n",
       "      <td>0</td>\n",
       "      <td>0</td>\n",
       "      <td>0</td>\n",
       "      <td>1</td>\n",
       "      <td>0</td>\n",
       "      <td>0</td>\n",
       "      <td>0</td>\n",
       "      <td>0</td>\n",
       "    </tr>\n",
       "    <tr>\n",
       "      <th>3</th>\n",
       "      <td>3</td>\n",
       "      <td>Waiting to Exhale (1995)</td>\n",
       "      <td>31357.0</td>\n",
       "      <td>114885</td>\n",
       "      <td>0</td>\n",
       "      <td>0</td>\n",
       "      <td>0</td>\n",
       "      <td>0</td>\n",
       "      <td>1</td>\n",
       "      <td>0</td>\n",
       "      <td>...</td>\n",
       "      <td>0</td>\n",
       "      <td>0</td>\n",
       "      <td>0</td>\n",
       "      <td>0</td>\n",
       "      <td>0</td>\n",
       "      <td>1</td>\n",
       "      <td>0</td>\n",
       "      <td>0</td>\n",
       "      <td>0</td>\n",
       "      <td>0</td>\n",
       "    </tr>\n",
       "    <tr>\n",
       "      <th>4</th>\n",
       "      <td>4</td>\n",
       "      <td>Father of the Bride Part II (1995)</td>\n",
       "      <td>11862.0</td>\n",
       "      <td>113041</td>\n",
       "      <td>0</td>\n",
       "      <td>0</td>\n",
       "      <td>0</td>\n",
       "      <td>0</td>\n",
       "      <td>1</td>\n",
       "      <td>0</td>\n",
       "      <td>...</td>\n",
       "      <td>0</td>\n",
       "      <td>0</td>\n",
       "      <td>0</td>\n",
       "      <td>0</td>\n",
       "      <td>0</td>\n",
       "      <td>0</td>\n",
       "      <td>0</td>\n",
       "      <td>0</td>\n",
       "      <td>0</td>\n",
       "      <td>0</td>\n",
       "    </tr>\n",
       "  </tbody>\n",
       "</table>\n",
       "<p>5 rows × 23 columns</p>\n",
       "</div>"
      ],
      "text/plain": [
       "   movieId                               title   tmdbId  imdbId  Action  \\\n",
       "0        0                    Toy Story (1995)    862.0  114709       0   \n",
       "1        1                      Jumanji (1995)   8844.0  113497       0   \n",
       "2        2             Grumpier Old Men (1995)  15602.0  113228       0   \n",
       "3        3            Waiting to Exhale (1995)  31357.0  114885       0   \n",
       "4        4  Father of the Bride Part II (1995)  11862.0  113041       0   \n",
       "\n",
       "   Adventure  Animation  Children  Comedy  Crime  ...  Film-Noir  Horror  \\\n",
       "0          1          1         1       1      0  ...          0       0   \n",
       "1          1          0         1       0      0  ...          0       0   \n",
       "2          0          0         0       1      0  ...          0       0   \n",
       "3          0          0         0       1      0  ...          0       0   \n",
       "4          0          0         0       1      0  ...          0       0   \n",
       "\n",
       "   IMAX  Musical  Mystery  Romance  Sci-Fi  Thriller  War  Western  \n",
       "0     0        0        0        0       0         0    0        0  \n",
       "1     0        0        0        0       0         0    0        0  \n",
       "2     0        0        0        1       0         0    0        0  \n",
       "3     0        0        0        1       0         0    0        0  \n",
       "4     0        0        0        0       0         0    0        0  \n",
       "\n",
       "[5 rows x 23 columns]"
      ]
     },
     "execution_count": 4,
     "metadata": {},
     "output_type": "execute_result"
    }
   ],
   "source": [
    "df_movies = pd.read_csv('/kaggle/input/dis-project-2-recommender-systems/movies.csv')\n",
    "df_links = pd.read_csv('/kaggle/input/dis-project-2-recommender-systems/links.csv')[['movieId', 'tmdbId', 'imdbId']]\n",
    "df_movies = df_movies.merge(df_links, how='left', on='movieId')\n",
    "\n",
    "# One-hot encoding for genre\n",
    "df_movies = pd.concat([df_movies, df_movies.genres.str.get_dummies('|')], axis=1)\n",
    "df_movies = df_movies.drop(columns=['(no genres listed)', 'genres'])\n",
    "\n",
    "sorted_unique_ids = sorted(df_movies['movieId'].unique())\n",
    "\n",
    "# Creating a mapping of IDs to indices based on the sorted order\n",
    "id_to_index_mapping = {id: idx for idx, id in enumerate(sorted_unique_ids)}\n",
    "\n",
    "# Replacing values in column movieId with the corresponding indices\n",
    "df_movies['movieId'] = df_movies['movieId'].map(id_to_index_mapping)\n",
    "\n",
    "df_movies.head()"
   ]
  },
  {
   "cell_type": "markdown",
   "id": "8d2f5769",
   "metadata": {
    "papermill": {
     "duration": 0.009116,
     "end_time": "2023-11-19T13:51:42.830843",
     "exception": false,
     "start_time": "2023-11-19T13:51:42.821727",
     "status": "completed"
    },
    "tags": []
   },
   "source": [
    "## Extracting movie details by id"
   ]
  },
  {
   "cell_type": "code",
   "execution_count": 5,
   "id": "1a90b365",
   "metadata": {
    "ExecuteTime": {
     "end_time": "2023-11-09T16:07:56.379654900Z",
     "start_time": "2023-11-09T16:07:56.373342Z"
    },
    "execution": {
     "iopub.execute_input": "2023-11-19T13:51:42.850940Z",
     "iopub.status.busy": "2023-11-19T13:51:42.850586Z",
     "iopub.status.idle": "2023-11-19T13:51:42.902181Z",
     "shell.execute_reply": "2023-11-19T13:51:42.901213Z"
    },
    "papermill": {
     "duration": 0.064688,
     "end_time": "2023-11-19T13:51:42.904707",
     "exception": false,
     "start_time": "2023-11-19T13:51:42.840019",
     "status": "completed"
    },
    "tags": []
   },
   "outputs": [],
   "source": [
    "try:\n",
    "    with open('/kaggle/input/project-2-precomputed/movie_info.pickle', 'rb') as handle:\n",
    "        movie_info = pickle.load(handle)\n",
    "except:\n",
    "    movie_info = []\n",
    "    for tmdb_id in tqdm(df_movies.tmdbId):\n",
    "        try:\n",
    "            movie_detail = movie.details(tmdb_id)\n",
    "            movie_info.append([movie_detail['vote_average'], \n",
    "                               movie_detail['overview'], \n",
    "                               movie_detail['popularity']])\n",
    "        except:\n",
    "            movie_info.append([])\n",
    "    with open('movie_info.pickle', 'wb') as handle:\n",
    "        pickle.dump(movie_info, handle, protocol=pickle.HIGHEST_PROTOCOL)\n"
   ]
  },
  {
   "cell_type": "markdown",
   "id": "ee5cc6d5",
   "metadata": {
    "papermill": {
     "duration": 0.009517,
     "end_time": "2023-11-19T13:51:42.924289",
     "exception": false,
     "start_time": "2023-11-19T13:51:42.914772",
     "status": "completed"
    },
    "tags": []
   },
   "source": [
    "## Processing movie information"
   ]
  },
  {
   "cell_type": "code",
   "execution_count": 6,
   "id": "9110f5f1",
   "metadata": {
    "ExecuteTime": {
     "end_time": "2023-11-09T16:07:57.274576900Z",
     "start_time": "2023-11-09T16:07:57.243067600Z"
    },
    "execution": {
     "iopub.execute_input": "2023-11-19T13:51:42.945163Z",
     "iopub.status.busy": "2023-11-19T13:51:42.944787Z",
     "iopub.status.idle": "2023-11-19T13:51:43.159891Z",
     "shell.execute_reply": "2023-11-19T13:51:43.158989Z"
    },
    "papermill": {
     "duration": 0.230102,
     "end_time": "2023-11-19T13:51:43.164176",
     "exception": false,
     "start_time": "2023-11-19T13:51:42.934074",
     "status": "completed"
    },
    "tags": []
   },
   "outputs": [
    {
     "data": {
      "application/vnd.jupyter.widget-view+json": {
       "model_id": "fdf3734ba42a4644bd02d0eba44b8941",
       "version_major": 2,
       "version_minor": 0
      },
      "text/plain": [
       "  0%|          | 0/9742 [00:00<?, ?it/s]"
      ]
     },
     "metadata": {},
     "output_type": "display_data"
    }
   ],
   "source": [
    "movie_scores = []\n",
    "movie_plot = []\n",
    "movie_popularity = []\n",
    "\n",
    "with open('/kaggle/input/project-2-precomputed/movie_plot.pickle', 'rb') as handle:\n",
    "    movie_plot = pickle.load(handle)\n",
    "\n",
    "for movie_detail in tqdm(movie_info):\n",
    "    try:\n",
    "        movie_scores.append(movie_detail[0])\n",
    "        movie_popularity.append(movie_detail[2])\n",
    "    except:\n",
    "        movie_scores.append(np.NaN)\n",
    "        movie_popularity.append(np.NaN)"
   ]
  },
  {
   "cell_type": "code",
   "execution_count": 7,
   "id": "706b9e58",
   "metadata": {
    "ExecuteTime": {
     "end_time": "2023-11-09T16:07:57.290980800Z",
     "start_time": "2023-11-09T16:07:57.274576900Z"
    },
    "execution": {
     "iopub.execute_input": "2023-11-19T13:51:43.187929Z",
     "iopub.status.busy": "2023-11-19T13:51:43.187557Z",
     "iopub.status.idle": "2023-11-19T13:51:43.214548Z",
     "shell.execute_reply": "2023-11-19T13:51:43.213458Z"
    },
    "papermill": {
     "duration": 0.041904,
     "end_time": "2023-11-19T13:51:43.217026",
     "exception": false,
     "start_time": "2023-11-19T13:51:43.175122",
     "status": "completed"
    },
    "tags": []
   },
   "outputs": [
    {
     "data": {
      "text/html": [
       "<div>\n",
       "<style scoped>\n",
       "    .dataframe tbody tr th:only-of-type {\n",
       "        vertical-align: middle;\n",
       "    }\n",
       "\n",
       "    .dataframe tbody tr th {\n",
       "        vertical-align: top;\n",
       "    }\n",
       "\n",
       "    .dataframe thead th {\n",
       "        text-align: right;\n",
       "    }\n",
       "</style>\n",
       "<table border=\"1\" class=\"dataframe\">\n",
       "  <thead>\n",
       "    <tr style=\"text-align: right;\">\n",
       "      <th></th>\n",
       "      <th>movieId</th>\n",
       "      <th>title</th>\n",
       "      <th>tmdbId</th>\n",
       "      <th>imdbId</th>\n",
       "      <th>Action</th>\n",
       "      <th>Adventure</th>\n",
       "      <th>Animation</th>\n",
       "      <th>Children</th>\n",
       "      <th>Comedy</th>\n",
       "      <th>Crime</th>\n",
       "      <th>...</th>\n",
       "      <th>IMAX</th>\n",
       "      <th>Musical</th>\n",
       "      <th>Mystery</th>\n",
       "      <th>Romance</th>\n",
       "      <th>Sci-Fi</th>\n",
       "      <th>Thriller</th>\n",
       "      <th>War</th>\n",
       "      <th>Western</th>\n",
       "      <th>ratings</th>\n",
       "      <th>popularity</th>\n",
       "    </tr>\n",
       "  </thead>\n",
       "  <tbody>\n",
       "    <tr>\n",
       "      <th>0</th>\n",
       "      <td>0</td>\n",
       "      <td>Toy Story (1995)</td>\n",
       "      <td>862.0</td>\n",
       "      <td>114709</td>\n",
       "      <td>0</td>\n",
       "      <td>1</td>\n",
       "      <td>1</td>\n",
       "      <td>1</td>\n",
       "      <td>1</td>\n",
       "      <td>0</td>\n",
       "      <td>...</td>\n",
       "      <td>0</td>\n",
       "      <td>0</td>\n",
       "      <td>0</td>\n",
       "      <td>0</td>\n",
       "      <td>0</td>\n",
       "      <td>0</td>\n",
       "      <td>0</td>\n",
       "      <td>0</td>\n",
       "      <td>7.970</td>\n",
       "      <td>120.836</td>\n",
       "    </tr>\n",
       "    <tr>\n",
       "      <th>1</th>\n",
       "      <td>1</td>\n",
       "      <td>Jumanji (1995)</td>\n",
       "      <td>8844.0</td>\n",
       "      <td>113497</td>\n",
       "      <td>0</td>\n",
       "      <td>1</td>\n",
       "      <td>0</td>\n",
       "      <td>1</td>\n",
       "      <td>0</td>\n",
       "      <td>0</td>\n",
       "      <td>...</td>\n",
       "      <td>0</td>\n",
       "      <td>0</td>\n",
       "      <td>0</td>\n",
       "      <td>0</td>\n",
       "      <td>0</td>\n",
       "      <td>0</td>\n",
       "      <td>0</td>\n",
       "      <td>0</td>\n",
       "      <td>7.238</td>\n",
       "      <td>18.995</td>\n",
       "    </tr>\n",
       "    <tr>\n",
       "      <th>2</th>\n",
       "      <td>2</td>\n",
       "      <td>Grumpier Old Men (1995)</td>\n",
       "      <td>15602.0</td>\n",
       "      <td>113228</td>\n",
       "      <td>0</td>\n",
       "      <td>0</td>\n",
       "      <td>0</td>\n",
       "      <td>0</td>\n",
       "      <td>1</td>\n",
       "      <td>0</td>\n",
       "      <td>...</td>\n",
       "      <td>0</td>\n",
       "      <td>0</td>\n",
       "      <td>0</td>\n",
       "      <td>1</td>\n",
       "      <td>0</td>\n",
       "      <td>0</td>\n",
       "      <td>0</td>\n",
       "      <td>0</td>\n",
       "      <td>6.494</td>\n",
       "      <td>19.230</td>\n",
       "    </tr>\n",
       "    <tr>\n",
       "      <th>3</th>\n",
       "      <td>3</td>\n",
       "      <td>Waiting to Exhale (1995)</td>\n",
       "      <td>31357.0</td>\n",
       "      <td>114885</td>\n",
       "      <td>0</td>\n",
       "      <td>0</td>\n",
       "      <td>0</td>\n",
       "      <td>0</td>\n",
       "      <td>1</td>\n",
       "      <td>0</td>\n",
       "      <td>...</td>\n",
       "      <td>0</td>\n",
       "      <td>0</td>\n",
       "      <td>0</td>\n",
       "      <td>1</td>\n",
       "      <td>0</td>\n",
       "      <td>0</td>\n",
       "      <td>0</td>\n",
       "      <td>0</td>\n",
       "      <td>6.183</td>\n",
       "      <td>19.823</td>\n",
       "    </tr>\n",
       "    <tr>\n",
       "      <th>4</th>\n",
       "      <td>4</td>\n",
       "      <td>Father of the Bride Part II (1995)</td>\n",
       "      <td>11862.0</td>\n",
       "      <td>113041</td>\n",
       "      <td>0</td>\n",
       "      <td>0</td>\n",
       "      <td>0</td>\n",
       "      <td>0</td>\n",
       "      <td>1</td>\n",
       "      <td>0</td>\n",
       "      <td>...</td>\n",
       "      <td>0</td>\n",
       "      <td>0</td>\n",
       "      <td>0</td>\n",
       "      <td>0</td>\n",
       "      <td>0</td>\n",
       "      <td>0</td>\n",
       "      <td>0</td>\n",
       "      <td>0</td>\n",
       "      <td>6.235</td>\n",
       "      <td>23.093</td>\n",
       "    </tr>\n",
       "  </tbody>\n",
       "</table>\n",
       "<p>5 rows × 25 columns</p>\n",
       "</div>"
      ],
      "text/plain": [
       "   movieId                               title   tmdbId  imdbId  Action  \\\n",
       "0        0                    Toy Story (1995)    862.0  114709       0   \n",
       "1        1                      Jumanji (1995)   8844.0  113497       0   \n",
       "2        2             Grumpier Old Men (1995)  15602.0  113228       0   \n",
       "3        3            Waiting to Exhale (1995)  31357.0  114885       0   \n",
       "4        4  Father of the Bride Part II (1995)  11862.0  113041       0   \n",
       "\n",
       "   Adventure  Animation  Children  Comedy  Crime  ...  IMAX  Musical  Mystery  \\\n",
       "0          1          1         1       1      0  ...     0        0        0   \n",
       "1          1          0         1       0      0  ...     0        0        0   \n",
       "2          0          0         0       1      0  ...     0        0        0   \n",
       "3          0          0         0       1      0  ...     0        0        0   \n",
       "4          0          0         0       1      0  ...     0        0        0   \n",
       "\n",
       "   Romance  Sci-Fi  Thriller  War  Western  ratings  popularity  \n",
       "0        0       0         0    0        0    7.970     120.836  \n",
       "1        0       0         0    0        0    7.238      18.995  \n",
       "2        1       0         0    0        0    6.494      19.230  \n",
       "3        1       0         0    0        0    6.183      19.823  \n",
       "4        0       0         0    0        0    6.235      23.093  \n",
       "\n",
       "[5 rows x 25 columns]"
      ]
     },
     "execution_count": 7,
     "metadata": {},
     "output_type": "execute_result"
    }
   ],
   "source": [
    "df_movies['ratings'] = movie_scores\n",
    "df_movies['popularity'] = movie_popularity\n",
    "\n",
    "df_movies.head()"
   ]
  },
  {
   "cell_type": "markdown",
   "id": "44821532",
   "metadata": {
    "papermill": {
     "duration": 0.010566,
     "end_time": "2023-11-19T13:51:43.238552",
     "exception": false,
     "start_time": "2023-11-19T13:51:43.227986",
     "status": "completed"
    },
    "tags": []
   },
   "source": [
    "## Choosing a device"
   ]
  },
  {
   "cell_type": "code",
   "execution_count": 8,
   "id": "6f552dd6",
   "metadata": {
    "ExecuteTime": {
     "end_time": "2023-11-09T16:08:09.487645900Z",
     "start_time": "2023-11-09T16:08:09.472826500Z"
    },
    "execution": {
     "iopub.execute_input": "2023-11-19T13:51:43.262008Z",
     "iopub.status.busy": "2023-11-19T13:51:43.261643Z",
     "iopub.status.idle": "2023-11-19T13:51:43.353070Z",
     "shell.execute_reply": "2023-11-19T13:51:43.351930Z"
    },
    "papermill": {
     "duration": 0.105584,
     "end_time": "2023-11-19T13:51:43.355240",
     "exception": false,
     "start_time": "2023-11-19T13:51:43.249656",
     "status": "completed"
    },
    "tags": []
   },
   "outputs": [
    {
     "name": "stdout",
     "output_type": "stream",
     "text": [
      "Using device: cuda\n",
      "Cuda device: Tesla P100-PCIE-16GB\n"
     ]
    }
   ],
   "source": [
    "device = torch.device('cuda') if torch.cuda.is_available() else torch.device('cpu')\n",
    "print(f'Using device: {device}')\n",
    "if torch.cuda.is_available():\n",
    "    print(f'Cuda device: {torch.cuda.get_device_name(torch.cuda.current_device())}')"
   ]
  },
  {
   "cell_type": "markdown",
   "id": "69c85981",
   "metadata": {
    "deletable": false,
    "nbgrader": {
     "cell_type": "markdown",
     "checksum": "59060d908a6d0040774a9a7c24a2b78a",
     "grade": false,
     "grade_id": "cell-93b1b51f03178ceb",
     "locked": true,
     "schema_version": 3,
     "solution": false,
     "task": false
    },
    "papermill": {
     "duration": 0.010028,
     "end_time": "2023-11-19T13:51:43.375760",
     "exception": false,
     "start_time": "2023-11-19T13:51:43.365732",
     "status": "completed"
    },
    "tags": []
   },
   "source": [
    "## Ratings dataset\n",
    "\n",
    "We will train the recommender system on the dataset in which element consists of these values:\n",
    "* `user_id` - id of the user (the smallest user id is 1)\n",
    "* `item_id` - id of the movie (the smallest item id is 1)\n",
    "* `rating` - rating given by the user to the movie\n",
    "* `movie_plot` - embeddings of textual movie description\n",
    "* `movie_features` - additional features of the movie including:\n",
    "    * popularity\n",
    "    * public rating\n",
    "    * genre\n",
    "\n",
    "The recommender system need to predict the rating for any given pair of `user_id` and `item_id`.\n",
    "\n",
    "We measure the objective of the predicted ratings using the mean-squared error (MSE) loss"
   ]
  },
  {
   "cell_type": "code",
   "execution_count": 9,
   "id": "7a7739f8",
   "metadata": {
    "ExecuteTime": {
     "end_time": "2023-11-09T16:08:09.605013100Z",
     "start_time": "2023-11-09T16:08:09.485623Z"
    },
    "deletable": false,
    "execution": {
     "iopub.execute_input": "2023-11-19T13:51:43.396931Z",
     "iopub.status.busy": "2023-11-19T13:51:43.396616Z",
     "iopub.status.idle": "2023-11-19T13:51:43.685375Z",
     "shell.execute_reply": "2023-11-19T13:51:43.684187Z"
    },
    "nbgrader": {
     "cell_type": "code",
     "checksum": "49c9bb6f71c5bebac88f572ebc5fdf21",
     "grade": false,
     "grade_id": "cell-fb7ca3b718244670",
     "locked": true,
     "schema_version": 3,
     "solution": false,
     "task": false
    },
    "papermill": {
     "duration": 0.301694,
     "end_time": "2023-11-19T13:51:43.687523",
     "exception": false,
     "start_time": "2023-11-19T13:51:43.385829",
     "status": "completed"
    },
    "tags": []
   },
   "outputs": [
    {
     "name": "stdout",
     "output_type": "stream",
     "text": [
      "user_id=599, item_id=1548, rating=3.5\n"
     ]
    }
   ],
   "source": [
    "trainset = RatingsData(root=None, train=True)\n",
    "testset = RatingsData(root=None, train=False)\n",
    "\n",
    "trainloader = torch.utils.data.DataLoader(trainset, batch_size=32, shuffle=True)\n",
    "testloader = torch.utils.data.DataLoader(testset, batch_size=10, shuffle=False)\n",
    "\n",
    "x = trainset[5]\n",
    "print(f'user_id={x[0]}, item_id={x[1]}, rating={x[2]}')"
   ]
  },
  {
   "cell_type": "markdown",
   "id": "cbcebad2",
   "metadata": {
    "papermill": {
     "duration": 0.010257,
     "end_time": "2023-11-19T13:51:43.708581",
     "exception": false,
     "start_time": "2023-11-19T13:51:43.698324",
     "status": "completed"
    },
    "tags": []
   },
   "source": [
    "## Our recommender system"
   ]
  },
  {
   "cell_type": "code",
   "execution_count": 10,
   "id": "666b030c",
   "metadata": {
    "ExecuteTime": {
     "end_time": "2023-11-09T16:08:09.637771900Z",
     "start_time": "2023-11-09T16:08:09.627389100Z"
    },
    "deletable": false,
    "execution": {
     "iopub.execute_input": "2023-11-19T13:51:43.731052Z",
     "iopub.status.busy": "2023-11-19T13:51:43.730708Z",
     "iopub.status.idle": "2023-11-19T13:51:43.742621Z",
     "shell.execute_reply": "2023-11-19T13:51:43.741801Z"
    },
    "nbgrader": {
     "cell_type": "code",
     "checksum": "0e5876624dba2e059f4aea1c65d27dfa",
     "grade": false,
     "grade_id": "cell-c3cffbe259a08d4d",
     "locked": false,
     "schema_version": 3,
     "solution": true,
     "task": false
    },
    "papermill": {
     "duration": 0.025754,
     "end_time": "2023-11-19T13:51:43.744788",
     "exception": false,
     "start_time": "2023-11-19T13:51:43.719034",
     "status": "completed"
    },
    "tags": []
   },
   "outputs": [],
   "source": [
    "class RecommenderSystem(nn.Module):\n",
    "    \"\"\"\n",
    "    Neural network for movie recommender system class.\n",
    "    \"\"\"\n",
    "    \n",
    "    def __init__(self, n_users, n_items):\n",
    "        \"\"\"\n",
    "        Args:\n",
    "          n_users: Number of users.\n",
    "          n_items: Number of items.\n",
    "        \"\"\"\n",
    "        super(RecommenderSystem, self).__init__()\n",
    "        self.embedding_user = nn.Embedding(n_users+1,10)\n",
    "        self.embedding_item = nn.Embedding(n_items+1,10)\n",
    "        self.user_linear = nn.Linear(10, 20)\n",
    "        self.content_linear = nn.Linear(384, 20)\n",
    "        self.layer_item = nn.Sequential(\n",
    "                    nn.Linear(51, 60),\n",
    "                    nn.Tanh(),\n",
    "                    nn.Dropout(0.3),\n",
    "                    nn.Linear(60, 10)\n",
    "                    )\n",
    "        \n",
    "        self.layers = nn.Sequential(\n",
    "                    nn.Linear(20, 40),\n",
    "                    nn.Tanh(),\n",
    "                    nn.Dropout(0.3),\n",
    "                    nn.Linear(40, 10),\n",
    "                    nn.Tanh(),\n",
    "                    nn.Dropout(0.2),\n",
    "                    nn.Linear(10,1)\n",
    "                    )\n",
    "                    \n",
    "        self.attention = nn.MultiheadAttention(embed_dim=20, num_heads=1)\n",
    "        \n",
    "    def forward(self, user_ids, item_ids, item_feature, plot_feature):\n",
    "        \"\"\"\n",
    "        Args:\n",
    "          user_ids of shape (batch_size): User ids (starting from 1).\n",
    "          item_ids of shape (batch_size): Item ids (starting from 1).\n",
    "        \n",
    "        Returns:\n",
    "          outputs of shape (batch_size): Predictions of ratings.\n",
    "        \"\"\"\n",
    "        emb_user = self.embedding_user(user_ids)\n",
    "        emb_item = self.embedding_item(item_ids)\n",
    "        \n",
    "\n",
    "        user_output = F.relu(self.user_linear(emb_user))\n",
    "        content_output = F.relu(self.content_linear(plot_feature))\n",
    "\n",
    "\n",
    "        emb_plot, _ = self.attention(user_output, content_output, content_output)\n",
    "        fea_item = self.layer_item(torch.concat([item_feature, emb_item, emb_plot],1))\n",
    "        emb_concat = torch.concat([emb_user, fea_item],1)\n",
    "        return self.layers(emb_concat).flatten()"
   ]
  },
  {
   "cell_type": "markdown",
   "id": "3682f46c",
   "metadata": {
    "deletable": false,
    "nbgrader": {
     "cell_type": "markdown",
     "checksum": "84fa4c2396a00177cefc9ae035b5ad1c",
     "grade": false,
     "grade_id": "cell-ba8b7cb0e60e0809",
     "locked": true,
     "schema_version": 3,
     "solution": false,
     "task": false
    },
    "papermill": {
     "duration": 0.01033,
     "end_time": "2023-11-19T13:51:43.765608",
     "exception": false,
     "start_time": "2023-11-19T13:51:43.755278",
     "status": "completed"
    },
    "tags": []
   },
   "source": [
    "## Training the model\n"
   ]
  },
  {
   "cell_type": "code",
   "execution_count": 11,
   "id": "c472aaff",
   "metadata": {
    "ExecuteTime": {
     "end_time": "2023-11-09T16:08:09.686587800Z",
     "start_time": "2023-11-09T16:08:09.674849800Z"
    },
    "execution": {
     "iopub.execute_input": "2023-11-19T13:51:43.788571Z",
     "iopub.status.busy": "2023-11-19T13:51:43.788120Z",
     "iopub.status.idle": "2023-11-19T13:51:43.837538Z",
     "shell.execute_reply": "2023-11-19T13:51:43.836508Z"
    },
    "papermill": {
     "duration": 0.063687,
     "end_time": "2023-11-19T13:51:43.839940",
     "exception": false,
     "start_time": "2023-11-19T13:51:43.776253",
     "status": "completed"
    },
    "tags": []
   },
   "outputs": [
    {
     "data": {
      "text/plain": [
       "torch.Size([9742, 21])"
      ]
     },
     "execution_count": 11,
     "metadata": {},
     "output_type": "execute_result"
    }
   ],
   "source": [
    "movie_plot_arr = np.stack(movie_plot).astype('float32')\n",
    "\n",
    "movie_features= df_movies.drop(columns=['movieId', 'title', 'tmdbId', 'imdbId']).to_numpy().astype('float32')\n",
    "\n",
    "# min max scaling\n",
    "movie_features = (movie_features- np.nanmin(movie_features,0)) / (np.nanmax(movie_features,0) - np.nanmin(movie_features,0))\n",
    "movie_features[np.isnan(movie_features)] = 0\n",
    "\n",
    "# convert to tensor\n",
    "with torch.no_grad():\n",
    "    item_features = torch.tensor(movie_features)\n",
    "    plot_tensor = torch.tensor(movie_plot_arr)\n",
    "item_features.shape"
   ]
  },
  {
   "cell_type": "code",
   "execution_count": 12,
   "id": "e8047dcf",
   "metadata": {
    "ExecuteTime": {
     "end_time": "2023-11-09T16:08:09.701992400Z",
     "start_time": "2023-11-09T16:08:09.683589200Z"
    },
    "deletable": false,
    "execution": {
     "iopub.execute_input": "2023-11-19T13:51:43.863550Z",
     "iopub.status.busy": "2023-11-19T13:51:43.863144Z",
     "iopub.status.idle": "2023-11-19T13:51:47.001570Z",
     "shell.execute_reply": "2023-11-19T13:51:47.000555Z"
    },
    "nbgrader": {
     "cell_type": "code",
     "checksum": "9de82b03bc4514fc2e9c8e71fe0eab6f",
     "grade": false,
     "grade_id": "cell-d149dfc0245469b4",
     "locked": true,
     "schema_version": 3,
     "solution": false,
     "task": false
    },
    "papermill": {
     "duration": 3.152795,
     "end_time": "2023-11-19T13:51:47.003857",
     "exception": false,
     "start_time": "2023-11-19T13:51:43.851062",
     "status": "completed"
    },
    "tags": []
   },
   "outputs": [
    {
     "data": {
      "text/plain": [
       "RecommenderSystem(\n",
       "  (embedding_user): Embedding(611, 10)\n",
       "  (embedding_item): Embedding(9743, 10)\n",
       "  (user_linear): Linear(in_features=10, out_features=20, bias=True)\n",
       "  (content_linear): Linear(in_features=384, out_features=20, bias=True)\n",
       "  (layer_item): Sequential(\n",
       "    (0): Linear(in_features=51, out_features=60, bias=True)\n",
       "    (1): Tanh()\n",
       "    (2): Dropout(p=0.3, inplace=False)\n",
       "    (3): Linear(in_features=60, out_features=10, bias=True)\n",
       "  )\n",
       "  (layers): Sequential(\n",
       "    (0): Linear(in_features=20, out_features=40, bias=True)\n",
       "    (1): Tanh()\n",
       "    (2): Dropout(p=0.3, inplace=False)\n",
       "    (3): Linear(in_features=40, out_features=10, bias=True)\n",
       "    (4): Tanh()\n",
       "    (5): Dropout(p=0.2, inplace=False)\n",
       "    (6): Linear(in_features=10, out_features=1, bias=True)\n",
       "  )\n",
       "  (attention): MultiheadAttention(\n",
       "    (out_proj): NonDynamicallyQuantizableLinear(in_features=20, out_features=20, bias=True)\n",
       "  )\n",
       ")"
      ]
     },
     "execution_count": 12,
     "metadata": {},
     "output_type": "execute_result"
    }
   ],
   "source": [
    "model = RecommenderSystem(610, 9742)\n",
    "model.to(device)"
   ]
  },
  {
   "cell_type": "code",
   "execution_count": 13,
   "id": "e85c0419",
   "metadata": {
    "ExecuteTime": {
     "end_time": "2023-11-09T16:08:09.703996300Z",
     "start_time": "2023-11-09T16:08:09.700979Z"
    },
    "execution": {
     "iopub.execute_input": "2023-11-19T13:51:47.027082Z",
     "iopub.status.busy": "2023-11-19T13:51:47.026743Z",
     "iopub.status.idle": "2023-11-19T13:51:47.033486Z",
     "shell.execute_reply": "2023-11-19T13:51:47.032563Z"
    },
    "papermill": {
     "duration": 0.020987,
     "end_time": "2023-11-19T13:51:47.035609",
     "exception": false,
     "start_time": "2023-11-19T13:51:47.014622",
     "status": "completed"
    },
    "tags": []
   },
   "outputs": [],
   "source": [
    "def get_mse(a, crit, loader):\n",
    "    mse_total = 0\n",
    "    iters = 0\n",
    "    a.eval()\n",
    "    with torch.no_grad():\n",
    "        for ser_ids, item_ids, rating in loader:\n",
    "            item_fea = item_features[item_ids]\n",
    "            plot_emb = plot_tensor[item_ids]\n",
    "            prediction = a(ser_ids.to(device), item_ids.to(device), item_fea.to(device), plot_emb.to(device))\n",
    "            mse_total += crit(prediction, rating.to(device)).item()\n",
    "            iters+= 1\n",
    "    return mse_total/iters"
   ]
  },
  {
   "cell_type": "code",
   "execution_count": 14,
   "id": "e9e8465a",
   "metadata": {
    "ExecuteTime": {
     "end_time": "2023-11-09T16:22:41.400501700Z",
     "start_time": "2023-11-09T16:09:12.896004800Z"
    },
    "deletable": false,
    "execution": {
     "iopub.execute_input": "2023-11-19T13:51:47.058072Z",
     "iopub.status.busy": "2023-11-19T13:51:47.057762Z",
     "iopub.status.idle": "2023-11-19T13:58:55.593112Z",
     "shell.execute_reply": "2023-11-19T13:58:55.591787Z"
    },
    "nbgrader": {
     "cell_type": "code",
     "checksum": "9ae611f86dc42c930a1421847d3310e8",
     "grade": false,
     "grade_id": "cell-d821843867334aed",
     "locked": false,
     "schema_version": 3,
     "solution": true,
     "task": false
    },
    "papermill": {
     "duration": 428.549096,
     "end_time": "2023-11-19T13:58:55.595160",
     "exception": false,
     "start_time": "2023-11-19T13:51:47.046064",
     "status": "completed"
    },
    "tags": []
   },
   "outputs": [
    {
     "name": "stdout",
     "output_type": "stream",
     "text": [
      "Epoch 0\n",
      "Training 1.01279311415838\n",
      "Epoch 1\n",
      "Training 0.8317830290103044\n",
      "Epoch 2\n",
      "Training 0.7238096151972327\n",
      "Epoch 3\n",
      "Training 0.7005365376952905\n",
      "Epoch 4\n",
      "Training 0.671235517270269\n",
      "Epoch 5\n",
      "Training 0.6733648877196348\n",
      "Epoch 6\n",
      "Training 0.6665107038393705\n",
      "Epoch 7\n",
      "Training 0.6636461965423498\n",
      "Epoch 8\n",
      "Training 0.6563038687143757\n",
      "Epoch 9\n",
      "Training 0.6553885578837294\n",
      "Epoch 10\n",
      "Training 0.6540631399013749\n",
      "Epoch 11\n",
      "Training 0.6493217334216287\n",
      "Epoch 12\n",
      "Training 0.6527543984285568\n",
      "Epoch 13\n",
      "Training 0.6561883169358234\n",
      "Epoch 14\n",
      "Training 0.6455395755574893\n",
      "Epoch 15\n",
      "Training 0.645772067842527\n",
      "Epoch 16\n",
      "Training 0.6536338724453078\n",
      "Epoch 17\n",
      "Training 0.6445480351089155\n",
      "Epoch 18\n",
      "Training 0.6432231988274639\n",
      "Epoch 19\n",
      "Training 0.6481692409146546\n",
      "Epoch 20\n",
      "Training 0.6412285164926601\n",
      "Epoch 21\n",
      "Training 0.6444451751180794\n",
      "Epoch 22\n",
      "Training 0.6487432974392533\n",
      "Epoch 23\n",
      "Training 0.6530958561552559\n",
      "Epoch 24\n",
      "Training 0.642676012613432\n",
      "Epoch 25\n",
      "Training 0.6445797899326414\n",
      "Epoch 26\n",
      "Training 0.6378044583101398\n",
      "Epoch 27\n",
      "Training 0.6395961394129364\n",
      "Epoch 28\n",
      "Training 0.6352469142598796\n",
      "Epoch 29\n",
      "Training 0.6346828587019269\n",
      "CPU times: user 14min 6s, sys: 3.85 s, total: 14min 10s\n",
      "Wall time: 7min 8s\n"
     ]
    }
   ],
   "source": [
    "%%time\n",
    "\n",
    "optim = torch.optim.Adam(model.parameters(), lr=0.0005,  weight_decay=0.001)\n",
    "criterion = nn.MSELoss()\n",
    "for i in range(30):\n",
    "    model.train()\n",
    "    for ser_ids, item_ids, rating in trainloader:\n",
    "        optim.zero_grad()\n",
    "        item_fea = item_features[item_ids]\n",
    "        plot_emb = plot_tensor[item_ids]\n",
    "        \n",
    "        ser_ids = ser_ids.to(device)\n",
    "        item_ids = item_ids.to(device)\n",
    "        item_fea = item_fea.to(device)\n",
    "        plot_emb = plot_emb.to(device)\n",
    "        rating = rating.to(device)\n",
    "        \n",
    "        prediction = model(ser_ids, item_ids, item_fea, plot_emb)\n",
    "        \n",
    "        prediction = prediction.to(device)\n",
    "        \n",
    "        loss = criterion(prediction, rating)\n",
    "        loss.backward()\n",
    "        optim.step()\n",
    "    print(\"Epoch\", i)\n",
    "    print(\"Training\", get_mse(model, criterion, trainloader))\n",
    "    "
   ]
  },
  {
   "cell_type": "markdown",
   "id": "397c2300",
   "metadata": {
    "papermill": {
     "duration": 0.01372,
     "end_time": "2023-11-19T13:58:55.623353",
     "exception": false,
     "start_time": "2023-11-19T13:58:55.609633",
     "status": "completed"
    },
    "tags": []
   },
   "source": [
    "## Testing the model"
   ]
  },
  {
   "cell_type": "code",
   "execution_count": 15,
   "id": "465c4392",
   "metadata": {
    "ExecuteTime": {
     "end_time": "2023-11-09T16:22:52.748332200Z",
     "start_time": "2023-11-09T16:22:52.690993Z"
    },
    "execution": {
     "iopub.execute_input": "2023-11-19T13:58:55.652432Z",
     "iopub.status.busy": "2023-11-19T13:58:55.652095Z",
     "iopub.status.idle": "2023-11-19T13:58:55.784360Z",
     "shell.execute_reply": "2023-11-19T13:58:55.783350Z"
    },
    "papermill": {
     "duration": 0.149475,
     "end_time": "2023-11-19T13:58:55.786801",
     "exception": false,
     "start_time": "2023-11-19T13:58:55.637326",
     "status": "completed"
    },
    "tags": []
   },
   "outputs": [
    {
     "data": {
      "text/html": [
       "<div>\n",
       "<style scoped>\n",
       "    .dataframe tbody tr th:only-of-type {\n",
       "        vertical-align: middle;\n",
       "    }\n",
       "\n",
       "    .dataframe tbody tr th {\n",
       "        vertical-align: top;\n",
       "    }\n",
       "\n",
       "    .dataframe thead th {\n",
       "        text-align: right;\n",
       "    }\n",
       "</style>\n",
       "<table border=\"1\" class=\"dataframe\">\n",
       "  <thead>\n",
       "    <tr style=\"text-align: right;\">\n",
       "      <th></th>\n",
       "      <th>Id</th>\n",
       "      <th>userId</th>\n",
       "      <th>movieId</th>\n",
       "    </tr>\n",
       "  </thead>\n",
       "  <tbody>\n",
       "    <tr>\n",
       "      <th>0</th>\n",
       "      <td>0</td>\n",
       "      <td>431</td>\n",
       "      <td>7333</td>\n",
       "    </tr>\n",
       "    <tr>\n",
       "      <th>1</th>\n",
       "      <td>1</td>\n",
       "      <td>287</td>\n",
       "      <td>412</td>\n",
       "    </tr>\n",
       "    <tr>\n",
       "      <th>2</th>\n",
       "      <td>2</td>\n",
       "      <td>598</td>\n",
       "      <td>3222</td>\n",
       "    </tr>\n",
       "    <tr>\n",
       "      <th>3</th>\n",
       "      <td>3</td>\n",
       "      <td>41</td>\n",
       "      <td>2250</td>\n",
       "    </tr>\n",
       "    <tr>\n",
       "      <th>4</th>\n",
       "      <td>4</td>\n",
       "      <td>74</td>\n",
       "      <td>1211</td>\n",
       "    </tr>\n",
       "  </tbody>\n",
       "</table>\n",
       "</div>"
      ],
      "text/plain": [
       "   Id  userId  movieId\n",
       "0   0     431     7333\n",
       "1   1     287      412\n",
       "2   2     598     3222\n",
       "3   3      41     2250\n",
       "4   4      74     1211"
      ]
     },
     "execution_count": 15,
     "metadata": {},
     "output_type": "execute_result"
    }
   ],
   "source": [
    "test_set = pd.read_csv('/kaggle/input/dis-project-2-recommender-systems/test_set_no_ratings.csv')\n",
    "test_set['movieId'] = test_set['movieId'].map(id_to_index_mapping)\n",
    "sorted_unique_users = sorted(pd.read_csv('/kaggle/input/dis-project-2-recommender-systems/train_ratings.csv')['userId'].unique())\n",
    "\n",
    "userid_to_index_mapping = {id: idx for idx, id in enumerate(sorted_unique_users)}\n",
    "test_set['userId'] = test_set['userId'].map(userid_to_index_mapping)\n",
    "test_set.head()"
   ]
  },
  {
   "cell_type": "code",
   "execution_count": 16,
   "id": "582b5024",
   "metadata": {
    "ExecuteTime": {
     "end_time": "2023-11-09T16:22:53.740779900Z",
     "start_time": "2023-11-09T16:22:53.220031400Z"
    },
    "execution": {
     "iopub.execute_input": "2023-11-19T13:58:55.818517Z",
     "iopub.status.busy": "2023-11-19T13:58:55.818156Z",
     "iopub.status.idle": "2023-11-19T13:58:55.888545Z",
     "shell.execute_reply": "2023-11-19T13:58:55.887591Z"
    },
    "papermill": {
     "duration": 0.087673,
     "end_time": "2023-11-19T13:58:55.890554",
     "exception": false,
     "start_time": "2023-11-19T13:58:55.802881",
     "status": "completed"
    },
    "tags": []
   },
   "outputs": [
    {
     "data": {
      "text/plain": [
       "tensor([2.5970, 3.3230, 2.5361,  ..., 3.8921, 3.4670, 3.1534], device='cuda:0',\n",
       "       grad_fn=<ReshapeAliasBackward0>)"
      ]
     },
     "execution_count": 16,
     "metadata": {},
     "output_type": "execute_result"
    }
   ],
   "source": [
    "model.eval()\n",
    "test_users = torch.LongTensor(test_set.userId.to_numpy())\n",
    "test_items = torch.LongTensor(test_set.movieId.to_numpy())\n",
    "prediction = model(test_users.to(device),test_items.to(device), item_features[test_items].to(device), plot_tensor[test_items].to(device))\n",
    "prediction"
   ]
  },
  {
   "cell_type": "code",
   "execution_count": 17,
   "id": "9891ab1e",
   "metadata": {
    "ExecuteTime": {
     "end_time": "2023-11-09T16:22:54.482588Z",
     "start_time": "2023-11-09T16:22:54.471349100Z"
    },
    "execution": {
     "iopub.execute_input": "2023-11-19T13:58:55.920850Z",
     "iopub.status.busy": "2023-11-19T13:58:55.920532Z",
     "iopub.status.idle": "2023-11-19T13:58:55.931042Z",
     "shell.execute_reply": "2023-11-19T13:58:55.930147Z"
    },
    "papermill": {
     "duration": 0.027781,
     "end_time": "2023-11-19T13:58:55.933072",
     "exception": false,
     "start_time": "2023-11-19T13:58:55.905291",
     "status": "completed"
    },
    "tags": []
   },
   "outputs": [
    {
     "data": {
      "text/html": [
       "<div>\n",
       "<style scoped>\n",
       "    .dataframe tbody tr th:only-of-type {\n",
       "        vertical-align: middle;\n",
       "    }\n",
       "\n",
       "    .dataframe tbody tr th {\n",
       "        vertical-align: top;\n",
       "    }\n",
       "\n",
       "    .dataframe thead th {\n",
       "        text-align: right;\n",
       "    }\n",
       "</style>\n",
       "<table border=\"1\" class=\"dataframe\">\n",
       "  <thead>\n",
       "    <tr style=\"text-align: right;\">\n",
       "      <th></th>\n",
       "      <th>Id</th>\n",
       "      <th>userId</th>\n",
       "      <th>movieId</th>\n",
       "      <th>rating</th>\n",
       "    </tr>\n",
       "  </thead>\n",
       "  <tbody>\n",
       "    <tr>\n",
       "      <th>0</th>\n",
       "      <td>0</td>\n",
       "      <td>431</td>\n",
       "      <td>7333</td>\n",
       "      <td>2.597031</td>\n",
       "    </tr>\n",
       "    <tr>\n",
       "      <th>1</th>\n",
       "      <td>1</td>\n",
       "      <td>287</td>\n",
       "      <td>412</td>\n",
       "      <td>3.323043</td>\n",
       "    </tr>\n",
       "    <tr>\n",
       "      <th>2</th>\n",
       "      <td>2</td>\n",
       "      <td>598</td>\n",
       "      <td>3222</td>\n",
       "      <td>2.536095</td>\n",
       "    </tr>\n",
       "    <tr>\n",
       "      <th>3</th>\n",
       "      <td>3</td>\n",
       "      <td>41</td>\n",
       "      <td>2250</td>\n",
       "      <td>3.788120</td>\n",
       "    </tr>\n",
       "    <tr>\n",
       "      <th>4</th>\n",
       "      <td>4</td>\n",
       "      <td>74</td>\n",
       "      <td>1211</td>\n",
       "      <td>3.372283</td>\n",
       "    </tr>\n",
       "  </tbody>\n",
       "</table>\n",
       "</div>"
      ],
      "text/plain": [
       "   Id  userId  movieId    rating\n",
       "0   0     431     7333  2.597031\n",
       "1   1     287      412  3.323043\n",
       "2   2     598     3222  2.536095\n",
       "3   3      41     2250  3.788120\n",
       "4   4      74     1211  3.372283"
      ]
     },
     "execution_count": 17,
     "metadata": {},
     "output_type": "execute_result"
    }
   ],
   "source": [
    "test_set['rating'] = prediction.cpu().detach().numpy()\n",
    "test_set.head()"
   ]
  },
  {
   "cell_type": "markdown",
   "id": "0fe907f5",
   "metadata": {
    "papermill": {
     "duration": 0.014158,
     "end_time": "2023-11-19T13:58:55.962296",
     "exception": false,
     "start_time": "2023-11-19T13:58:55.948138",
     "status": "completed"
    },
    "tags": []
   },
   "source": [
    "## Creating submission"
   ]
  },
  {
   "cell_type": "code",
   "execution_count": 18,
   "id": "42bbf688",
   "metadata": {
    "ExecuteTime": {
     "end_time": "2023-11-09T16:22:56.593297900Z",
     "start_time": "2023-11-09T16:22:56.581537600Z"
    },
    "execution": {
     "iopub.execute_input": "2023-11-19T13:58:55.992272Z",
     "iopub.status.busy": "2023-11-19T13:58:55.991947Z",
     "iopub.status.idle": "2023-11-19T13:58:56.001813Z",
     "shell.execute_reply": "2023-11-19T13:58:56.000928Z"
    },
    "papermill": {
     "duration": 0.027021,
     "end_time": "2023-11-19T13:58:56.003701",
     "exception": false,
     "start_time": "2023-11-19T13:58:55.976680",
     "status": "completed"
    },
    "tags": []
   },
   "outputs": [
    {
     "data": {
      "text/html": [
       "<div>\n",
       "<style scoped>\n",
       "    .dataframe tbody tr th:only-of-type {\n",
       "        vertical-align: middle;\n",
       "    }\n",
       "\n",
       "    .dataframe tbody tr th {\n",
       "        vertical-align: top;\n",
       "    }\n",
       "\n",
       "    .dataframe thead th {\n",
       "        text-align: right;\n",
       "    }\n",
       "</style>\n",
       "<table border=\"1\" class=\"dataframe\">\n",
       "  <thead>\n",
       "    <tr style=\"text-align: right;\">\n",
       "      <th></th>\n",
       "      <th>Id</th>\n",
       "      <th>rating</th>\n",
       "    </tr>\n",
       "  </thead>\n",
       "  <tbody>\n",
       "    <tr>\n",
       "      <th>0</th>\n",
       "      <td>0</td>\n",
       "      <td>2.597031</td>\n",
       "    </tr>\n",
       "    <tr>\n",
       "      <th>1</th>\n",
       "      <td>1</td>\n",
       "      <td>3.323043</td>\n",
       "    </tr>\n",
       "    <tr>\n",
       "      <th>2</th>\n",
       "      <td>2</td>\n",
       "      <td>2.536095</td>\n",
       "    </tr>\n",
       "    <tr>\n",
       "      <th>3</th>\n",
       "      <td>3</td>\n",
       "      <td>3.788120</td>\n",
       "    </tr>\n",
       "    <tr>\n",
       "      <th>4</th>\n",
       "      <td>4</td>\n",
       "      <td>3.372283</td>\n",
       "    </tr>\n",
       "  </tbody>\n",
       "</table>\n",
       "</div>"
      ],
      "text/plain": [
       "   Id    rating\n",
       "0   0  2.597031\n",
       "1   1  3.323043\n",
       "2   2  2.536095\n",
       "3   3  3.788120\n",
       "4   4  3.372283"
      ]
     },
     "execution_count": 18,
     "metadata": {},
     "output_type": "execute_result"
    }
   ],
   "source": [
    "submission= test_set.drop(columns=['userId', 'movieId'])\n",
    "submission.head()"
   ]
  },
  {
   "cell_type": "code",
   "execution_count": 19,
   "id": "fe5ded88",
   "metadata": {
    "ExecuteTime": {
     "end_time": "2023-11-09T16:22:57.616242800Z",
     "start_time": "2023-11-09T16:22:57.591880100Z"
    },
    "execution": {
     "iopub.execute_input": "2023-11-19T13:58:56.034900Z",
     "iopub.status.busy": "2023-11-19T13:58:56.034596Z",
     "iopub.status.idle": "2023-11-19T13:58:56.096890Z",
     "shell.execute_reply": "2023-11-19T13:58:56.096066Z"
    },
    "papermill": {
     "duration": 0.080435,
     "end_time": "2023-11-19T13:58:56.099264",
     "exception": false,
     "start_time": "2023-11-19T13:58:56.018829",
     "status": "completed"
    },
    "tags": []
   },
   "outputs": [],
   "source": [
    "submission.to_csv('submission.csv', index=False)"
   ]
  }
 ],
 "metadata": {
  "kaggle": {
   "accelerator": "gpu",
   "dataSources": [
    {
     "databundleVersionId": 6793654,
     "sourceId": 62199,
     "sourceType": "competition"
    },
    {
     "datasetId": 3980049,
     "sourceId": 6931465,
     "sourceType": "datasetVersion"
    }
   ],
   "dockerImageVersionId": 30559,
   "isGpuEnabled": true,
   "isInternetEnabled": true,
   "language": "python",
   "sourceType": "notebook"
  },
  "kernelspec": {
   "display_name": "Python 3",
   "language": "python",
   "name": "python3"
  },
  "language_info": {
   "codemirror_mode": {
    "name": "ipython",
    "version": 3
   },
   "file_extension": ".py",
   "mimetype": "text/x-python",
   "name": "python",
   "nbconvert_exporter": "python",
   "pygments_lexer": "ipython3",
   "version": "3.10.12"
  },
  "papermill": {
   "default_parameters": {},
   "duration": 443.067412,
   "end_time": "2023-11-19T13:58:57.437720",
   "environment_variables": {},
   "exception": null,
   "input_path": "__notebook__.ipynb",
   "output_path": "__notebook__.ipynb",
   "parameters": {},
   "start_time": "2023-11-19T13:51:34.370308",
   "version": "2.4.0"
  },
  "widgets": {
   "application/vnd.jupyter.widget-state+json": {
    "state": {
     "28007bca53374fae81cfbecc31eeae72": {
      "model_module": "@jupyter-widgets/controls",
      "model_module_version": "1.5.0",
      "model_name": "HTMLModel",
      "state": {
       "_dom_classes": [],
       "_model_module": "@jupyter-widgets/controls",
       "_model_module_version": "1.5.0",
       "_model_name": "HTMLModel",
       "_view_count": null,
       "_view_module": "@jupyter-widgets/controls",
       "_view_module_version": "1.5.0",
       "_view_name": "HTMLView",
       "description": "",
       "description_tooltip": null,
       "layout": "IPY_MODEL_8b288a41304c4247ac5f7112b771d221",
       "placeholder": "​",
       "style": "IPY_MODEL_33f5b0c411df419d93184ce67fa6d3cd",
       "value": " 9742/9742 [00:00&lt;00:00, 472047.57it/s]"
      }
     },
     "33f5b0c411df419d93184ce67fa6d3cd": {
      "model_module": "@jupyter-widgets/controls",
      "model_module_version": "1.5.0",
      "model_name": "DescriptionStyleModel",
      "state": {
       "_model_module": "@jupyter-widgets/controls",
       "_model_module_version": "1.5.0",
       "_model_name": "DescriptionStyleModel",
       "_view_count": null,
       "_view_module": "@jupyter-widgets/base",
       "_view_module_version": "1.2.0",
       "_view_name": "StyleView",
       "description_width": ""
      }
     },
     "5543c73edc5a457498cb9dc59878c428": {
      "model_module": "@jupyter-widgets/base",
      "model_module_version": "1.2.0",
      "model_name": "LayoutModel",
      "state": {
       "_model_module": "@jupyter-widgets/base",
       "_model_module_version": "1.2.0",
       "_model_name": "LayoutModel",
       "_view_count": null,
       "_view_module": "@jupyter-widgets/base",
       "_view_module_version": "1.2.0",
       "_view_name": "LayoutView",
       "align_content": null,
       "align_items": null,
       "align_self": null,
       "border": null,
       "bottom": null,
       "display": null,
       "flex": null,
       "flex_flow": null,
       "grid_area": null,
       "grid_auto_columns": null,
       "grid_auto_flow": null,
       "grid_auto_rows": null,
       "grid_column": null,
       "grid_gap": null,
       "grid_row": null,
       "grid_template_areas": null,
       "grid_template_columns": null,
       "grid_template_rows": null,
       "height": null,
       "justify_content": null,
       "justify_items": null,
       "left": null,
       "margin": null,
       "max_height": null,
       "max_width": null,
       "min_height": null,
       "min_width": null,
       "object_fit": null,
       "object_position": null,
       "order": null,
       "overflow": null,
       "overflow_x": null,
       "overflow_y": null,
       "padding": null,
       "right": null,
       "top": null,
       "visibility": null,
       "width": null
      }
     },
     "60d129c03be948cda8478fb0ad218012": {
      "model_module": "@jupyter-widgets/controls",
      "model_module_version": "1.5.0",
      "model_name": "DescriptionStyleModel",
      "state": {
       "_model_module": "@jupyter-widgets/controls",
       "_model_module_version": "1.5.0",
       "_model_name": "DescriptionStyleModel",
       "_view_count": null,
       "_view_module": "@jupyter-widgets/base",
       "_view_module_version": "1.2.0",
       "_view_name": "StyleView",
       "description_width": ""
      }
     },
     "8b288a41304c4247ac5f7112b771d221": {
      "model_module": "@jupyter-widgets/base",
      "model_module_version": "1.2.0",
      "model_name": "LayoutModel",
      "state": {
       "_model_module": "@jupyter-widgets/base",
       "_model_module_version": "1.2.0",
       "_model_name": "LayoutModel",
       "_view_count": null,
       "_view_module": "@jupyter-widgets/base",
       "_view_module_version": "1.2.0",
       "_view_name": "LayoutView",
       "align_content": null,
       "align_items": null,
       "align_self": null,
       "border": null,
       "bottom": null,
       "display": null,
       "flex": null,
       "flex_flow": null,
       "grid_area": null,
       "grid_auto_columns": null,
       "grid_auto_flow": null,
       "grid_auto_rows": null,
       "grid_column": null,
       "grid_gap": null,
       "grid_row": null,
       "grid_template_areas": null,
       "grid_template_columns": null,
       "grid_template_rows": null,
       "height": null,
       "justify_content": null,
       "justify_items": null,
       "left": null,
       "margin": null,
       "max_height": null,
       "max_width": null,
       "min_height": null,
       "min_width": null,
       "object_fit": null,
       "object_position": null,
       "order": null,
       "overflow": null,
       "overflow_x": null,
       "overflow_y": null,
       "padding": null,
       "right": null,
       "top": null,
       "visibility": null,
       "width": null
      }
     },
     "9489ee96fa1746429500e40b06a66e47": {
      "model_module": "@jupyter-widgets/controls",
      "model_module_version": "1.5.0",
      "model_name": "HTMLModel",
      "state": {
       "_dom_classes": [],
       "_model_module": "@jupyter-widgets/controls",
       "_model_module_version": "1.5.0",
       "_model_name": "HTMLModel",
       "_view_count": null,
       "_view_module": "@jupyter-widgets/controls",
       "_view_module_version": "1.5.0",
       "_view_name": "HTMLView",
       "description": "",
       "description_tooltip": null,
       "layout": "IPY_MODEL_af299e8aecc74ba28b77e7f8e24cc6fe",
       "placeholder": "​",
       "style": "IPY_MODEL_60d129c03be948cda8478fb0ad218012",
       "value": "100%"
      }
     },
     "a31e83f95f6d4c75a210bffc91460767": {
      "model_module": "@jupyter-widgets/controls",
      "model_module_version": "1.5.0",
      "model_name": "FloatProgressModel",
      "state": {
       "_dom_classes": [],
       "_model_module": "@jupyter-widgets/controls",
       "_model_module_version": "1.5.0",
       "_model_name": "FloatProgressModel",
       "_view_count": null,
       "_view_module": "@jupyter-widgets/controls",
       "_view_module_version": "1.5.0",
       "_view_name": "ProgressView",
       "bar_style": "success",
       "description": "",
       "description_tooltip": null,
       "layout": "IPY_MODEL_cc378ac2405542daa21bc0bafd47139e",
       "max": 9742.0,
       "min": 0.0,
       "orientation": "horizontal",
       "style": "IPY_MODEL_de41c5cd848949a4bc332d62c024e416",
       "value": 9742.0
      }
     },
     "af299e8aecc74ba28b77e7f8e24cc6fe": {
      "model_module": "@jupyter-widgets/base",
      "model_module_version": "1.2.0",
      "model_name": "LayoutModel",
      "state": {
       "_model_module": "@jupyter-widgets/base",
       "_model_module_version": "1.2.0",
       "_model_name": "LayoutModel",
       "_view_count": null,
       "_view_module": "@jupyter-widgets/base",
       "_view_module_version": "1.2.0",
       "_view_name": "LayoutView",
       "align_content": null,
       "align_items": null,
       "align_self": null,
       "border": null,
       "bottom": null,
       "display": null,
       "flex": null,
       "flex_flow": null,
       "grid_area": null,
       "grid_auto_columns": null,
       "grid_auto_flow": null,
       "grid_auto_rows": null,
       "grid_column": null,
       "grid_gap": null,
       "grid_row": null,
       "grid_template_areas": null,
       "grid_template_columns": null,
       "grid_template_rows": null,
       "height": null,
       "justify_content": null,
       "justify_items": null,
       "left": null,
       "margin": null,
       "max_height": null,
       "max_width": null,
       "min_height": null,
       "min_width": null,
       "object_fit": null,
       "object_position": null,
       "order": null,
       "overflow": null,
       "overflow_x": null,
       "overflow_y": null,
       "padding": null,
       "right": null,
       "top": null,
       "visibility": null,
       "width": null
      }
     },
     "cc378ac2405542daa21bc0bafd47139e": {
      "model_module": "@jupyter-widgets/base",
      "model_module_version": "1.2.0",
      "model_name": "LayoutModel",
      "state": {
       "_model_module": "@jupyter-widgets/base",
       "_model_module_version": "1.2.0",
       "_model_name": "LayoutModel",
       "_view_count": null,
       "_view_module": "@jupyter-widgets/base",
       "_view_module_version": "1.2.0",
       "_view_name": "LayoutView",
       "align_content": null,
       "align_items": null,
       "align_self": null,
       "border": null,
       "bottom": null,
       "display": null,
       "flex": null,
       "flex_flow": null,
       "grid_area": null,
       "grid_auto_columns": null,
       "grid_auto_flow": null,
       "grid_auto_rows": null,
       "grid_column": null,
       "grid_gap": null,
       "grid_row": null,
       "grid_template_areas": null,
       "grid_template_columns": null,
       "grid_template_rows": null,
       "height": null,
       "justify_content": null,
       "justify_items": null,
       "left": null,
       "margin": null,
       "max_height": null,
       "max_width": null,
       "min_height": null,
       "min_width": null,
       "object_fit": null,
       "object_position": null,
       "order": null,
       "overflow": null,
       "overflow_x": null,
       "overflow_y": null,
       "padding": null,
       "right": null,
       "top": null,
       "visibility": null,
       "width": null
      }
     },
     "de41c5cd848949a4bc332d62c024e416": {
      "model_module": "@jupyter-widgets/controls",
      "model_module_version": "1.5.0",
      "model_name": "ProgressStyleModel",
      "state": {
       "_model_module": "@jupyter-widgets/controls",
       "_model_module_version": "1.5.0",
       "_model_name": "ProgressStyleModel",
       "_view_count": null,
       "_view_module": "@jupyter-widgets/base",
       "_view_module_version": "1.2.0",
       "_view_name": "StyleView",
       "bar_color": null,
       "description_width": ""
      }
     },
     "fdf3734ba42a4644bd02d0eba44b8941": {
      "model_module": "@jupyter-widgets/controls",
      "model_module_version": "1.5.0",
      "model_name": "HBoxModel",
      "state": {
       "_dom_classes": [],
       "_model_module": "@jupyter-widgets/controls",
       "_model_module_version": "1.5.0",
       "_model_name": "HBoxModel",
       "_view_count": null,
       "_view_module": "@jupyter-widgets/controls",
       "_view_module_version": "1.5.0",
       "_view_name": "HBoxView",
       "box_style": "",
       "children": [
        "IPY_MODEL_9489ee96fa1746429500e40b06a66e47",
        "IPY_MODEL_a31e83f95f6d4c75a210bffc91460767",
        "IPY_MODEL_28007bca53374fae81cfbecc31eeae72"
       ],
       "layout": "IPY_MODEL_5543c73edc5a457498cb9dc59878c428"
      }
     }
    },
    "version_major": 2,
    "version_minor": 0
   }
  }
 },
 "nbformat": 4,
 "nbformat_minor": 5
}
